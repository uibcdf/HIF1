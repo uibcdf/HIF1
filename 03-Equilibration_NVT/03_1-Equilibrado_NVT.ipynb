{
 "cells": [
  {
   "cell_type": "code",
   "execution_count": 1,
   "metadata": {},
   "outputs": [
    {
     "name": "stderr",
     "output_type": "stream",
     "text": [
      "/home/liliana/Myopt/Miniconda/miniconda3/envs/UIBCDF_lab/lib/python3.7/site-packages/yank/experiment.py:1170: YAMLLoadWarning: calling yaml.load() without Loader=... is deprecated, as the default Loader is unsafe. Please read https://msg.pyyaml.org/load for full details.\n",
      "  \"\"\")\n"
     ]
    }
   ],
   "source": [
    "import molmodmt as m3t\n",
    "import simtk.openmm as mm\n",
    "import simtk.openmm.app as app\n",
    "import simtk.unit as unit\n",
    "\n",
    "from openmmtools.integrators import LangevinIntegrator\n",
    "import numpy as np\n",
    "import os\n",
    "import pickle as pickle\n",
    "\n",
    "import matplotlib.pyplot as plt\n"
   ]
  },
  {
   "cell_type": "code",
   "execution_count": 2,
   "metadata": {},
   "outputs": [],
   "source": [
    "Modelo_HIF1_minimizado = m3t.convert('HIF1_minimizado.pdb','openmm.Modeller')"
   ]
  },
  {
   "cell_type": "code",
   "execution_count": 3,
   "metadata": {},
   "outputs": [
    {
     "data": {
      "text/plain": [
       "<Topology; 60643 chains, 61347 residues, 193124 atoms, 132599 bonds>"
      ]
     },
     "execution_count": 3,
     "metadata": {},
     "output_type": "execute_result"
    }
   ],
   "source": [
    "Modelo_HIF1_minimizado.topology"
   ]
  },
  {
   "cell_type": "markdown",
   "metadata": {},
   "source": [
    "### Creación del sistema"
   ]
  },
  {
   "cell_type": "code",
   "execution_count": 4,
   "metadata": {},
   "outputs": [],
   "source": [
    "topology = Modelo_HIF1_minimizado.topology"
   ]
  },
  {
   "cell_type": "code",
   "execution_count": 5,
   "metadata": {},
   "outputs": [],
   "source": [
    "forcefield = app.ForceField('amber99sbildn.xml','tip3p.xml')"
   ]
  },
  {
   "cell_type": "code",
   "execution_count": 6,
   "metadata": {},
   "outputs": [],
   "source": [
    "system = forcefield.createSystem(topology, nonbondedMethod=app.PME, nonbondedCutoff=1.2*unit.nanometers, \n",
    "                        constraints=app.HBonds,rigidWater=True, ewaldErrorTolerance=0.0005)"
   ]
  },
  {
   "cell_type": "markdown",
   "metadata": {},
   "source": [
    "### Descripción del estado termodinámico"
   ]
  },
  {
   "cell_type": "code",
   "execution_count": 7,
   "metadata": {},
   "outputs": [],
   "source": [
    "kB = unit.BOLTZMANN_CONSTANT_kB * unit.AVOGADRO_CONSTANT_NA\n",
    "temperature = 300.0*unit.kelvin\n",
    "pressure    = None"
   ]
  },
  {
   "cell_type": "markdown",
   "metadata": {},
   "source": [
    "### Integrador"
   ]
  },
  {
   "cell_type": "code",
   "execution_count": 8,
   "metadata": {},
   "outputs": [],
   "source": [
    "friction   = 1.0/unit.picosecond\n",
    "step_size  = 2.0*unit.femtoseconds\n",
    "integrator = LangevinIntegrator(temperature, friction, step_size)\n",
    "integrator.setConstraintTolerance(0.00001)"
   ]
  },
  {
   "cell_type": "markdown",
   "metadata": {},
   "source": [
    "### Plataforma"
   ]
  },
  {
   "cell_type": "code",
   "execution_count": 9,
   "metadata": {},
   "outputs": [],
   "source": [
    "platform = mm.Platform.getPlatformByName('CUDA')\n",
    "properties = {'CudaPrecision': 'mixed'}"
   ]
  },
  {
   "cell_type": "markdown",
   "metadata": {},
   "source": [
    "### Crear objeto Simulación"
   ]
  },
  {
   "cell_type": "code",
   "execution_count": 10,
   "metadata": {},
   "outputs": [],
   "source": [
    "simulation = app.Simulation(topology, system, integrator, platform, properties)"
   ]
  },
  {
   "cell_type": "markdown",
   "metadata": {},
   "source": [
    "### Condiciones iniciales"
   ]
  },
  {
   "cell_type": "code",
   "execution_count": 11,
   "metadata": {},
   "outputs": [],
   "source": [
    "positions = Modelo_HIF1_minimizado.positions"
   ]
  },
  {
   "cell_type": "code",
   "execution_count": 12,
   "metadata": {},
   "outputs": [],
   "source": [
    "simulation.context.setPositions(positions)"
   ]
  },
  {
   "cell_type": "code",
   "execution_count": 13,
   "metadata": {},
   "outputs": [],
   "source": [
    "simulation.context.setVelocitiesToTemperature(temperature)"
   ]
  },
  {
   "cell_type": "markdown",
   "metadata": {},
   "source": [
    "#### Iterations Parameters"
   ]
  },
  {
   "cell_type": "code",
   "execution_count": 14,
   "metadata": {},
   "outputs": [],
   "source": [
    "time_simulation = 10.0 * unit.picoseconds\n",
    "time_saving = 0.05 * unit.picoseconds\n",
    "time_verbose = 0.05 * unit.picoseconds\n",
    "time_checkpoint = 0.05 * unit.picoseconds"
   ]
  },
  {
   "cell_type": "code",
   "execution_count": 15,
   "metadata": {},
   "outputs": [],
   "source": [
    "number_iterations = int(time_simulation/time_saving)\n",
    "elapsed_iterations_verbose = int(time_verbose/time_saving)\n",
    "elapsed_iterations_checkpoint = int(time_checkpoint/time_saving)\n",
    "steps_per_iteration = int(time_saving/step_size)\n",
    "total_simulation_steps = number_iterations*steps_per_iteration"
   ]
  },
  {
   "cell_type": "markdown",
   "metadata": {},
   "source": [
    "### Reporters\n",
    "\n",
    "#### Observables Stored"
   ]
  },
  {
   "cell_type": "code",
   "execution_count": 16,
   "metadata": {},
   "outputs": [],
   "source": [
    "net_mass = 0.0 * unit.amu\n",
    "for particle_index in range(system.getNumParticles()):\n",
    "    net_mass += system.getParticleMass(particle_index)\n",
    "\n",
    "net_mass = net_mass.in_units_of(unit.gram/unit.mole)/unit.AVOGADRO_CONSTANT_NA"
   ]
  },
  {
   "cell_type": "code",
   "execution_count": 17,
   "metadata": {},
   "outputs": [],
   "source": [
    "n_degrees_of_freedom = 3*system.getNumParticles() - system.getNumConstraints()"
   ]
  },
  {
   "cell_type": "code",
   "execution_count": 18,
   "metadata": {},
   "outputs": [],
   "source": [
    "number_states_saved = number_iterations+1\n",
    "data = dict()\n",
    "data['time'] = unit.Quantity(np.zeros([number_states_saved], np.float64), unit.picoseconds)\n",
    "data['potential'] = unit.Quantity(np.zeros([number_states_saved], np.float64), unit.kilocalories_per_mole)\n",
    "data['kinetic'] = unit.Quantity(np.zeros([number_states_saved], np.float64), unit.kilocalories_per_mole)\n",
    "data['volume'] = unit.Quantity(np.zeros([number_states_saved], np.float64), unit.nanometers**3)\n",
    "data['density'] = unit.Quantity(np.zeros([number_states_saved], np.float64), unit.gram / unit.centimeters**3)\n",
    "data['kinetic_temperature'] = unit.Quantity(np.zeros([number_states_saved], np.float64), unit.kelvin)"
   ]
  },
  {
   "cell_type": "markdown",
   "metadata": {},
   "source": [
    "#### Simulation Status"
   ]
  },
  {
   "cell_type": "code",
   "execution_count": 19,
   "metadata": {},
   "outputs": [],
   "source": [
    "def printout_status(iteration, number_iterations, time, kinetic_temperature, volume):\n",
    "    progression = 100.0*(iteration/number_iterations)\n",
    "    msg=\"Progress: {:6.2f}%, Time: {:.2f} ps, Kinetic Temperature: {:.3f} K, Volume: {:.3f} nm^3\"\n",
    "    print(msg.format(progression, time.value_in_unit(unit.picoseconds),\n",
    "                  kinetic_temperature.value_in_unit(unit.kelvin), volume.value_in_unit(unit.nanometers**3)))   "
   ]
  },
  {
   "cell_type": "markdown",
   "metadata": {},
   "source": [
    "#### CheckPoint and Finnal State"
   ]
  },
  {
   "cell_type": "code",
   "execution_count": 20,
   "metadata": {},
   "outputs": [],
   "source": [
    "def dump_state(simulation, filename):\n",
    "\n",
    "    state = simulation.context.getState(getPositions=True, getVelocities=True)\n",
    "    time = state.getTime() / unit.picoseconds\n",
    "    positions = state.getPositions() / unit.nanometers\n",
    "    velocities = state.getVelocities() / unit.nanometers*unit.picoseconds\n",
    "    box_vectors = state.getPeriodicBoxVectors() / unit.nanometers\n",
    "\n",
    "    with open(os.path.join(filename), 'wb') as f:\n",
    "        pickle.dump((time, positions, velocities, box_vectors), f)\n",
    "\n",
    "def save_checkpoint_state(simulation):\n",
    "    return dump_state(simulation, \"checkpoint.pkl\")\n",
    "\n",
    "def save_finnal_state(simulation):\n",
    "    return dump_state(simulation, \"restart.pkl\")"
   ]
  },
  {
   "cell_type": "markdown",
   "metadata": {},
   "source": [
    "#### Reporting Initial State"
   ]
  },
  {
   "cell_type": "code",
   "execution_count": 21,
   "metadata": {},
   "outputs": [
    {
     "name": "stdout",
     "output_type": "stream",
     "text": [
      "Progress:   0.00%, Time: 0.00 ps, Kinetic Temperature: 299.160 K, Volume: 2096.309 nm^3\n"
     ]
    }
   ],
   "source": [
    "state = simulation.context.getState(getEnergy=True)\n",
    "time = state.getTime()\n",
    "potential_energy = state.getPotentialEnergy()\n",
    "kinetic_energy = state.getKineticEnergy()\n",
    "volume = state.getPeriodicBoxVolume()\n",
    "density = (net_mass / volume).in_units_of(unit.gram / unit.centimeter**3)\n",
    "kinetic_temperature = (2.0 * kinetic_energy / kB / n_degrees_of_freedom).in_units_of(unit.kelvin)\n",
    "data['time'][0] = time\n",
    "data['potential'][0] = potential_energy\n",
    "data['kinetic'][0] = kinetic_energy\n",
    "data['volume'][0] = volume\n",
    "data['density'][0] = density\n",
    "data['kinetic_temperature'][0] = kinetic_temperature\n",
    "\n",
    "printout_status(0, number_iterations, time, kinetic_temperature, volume)"
   ]
  },
  {
   "cell_type": "markdown",
   "metadata": {},
   "source": [
    "#### Running Simulation"
   ]
  },
  {
   "cell_type": "code",
   "execution_count": 22,
   "metadata": {},
   "outputs": [
    {
     "name": "stdout",
     "output_type": "stream",
     "text": [
      "Progress:   0.50%, Time: 0.05 ps, Kinetic Temperature: 155.666 K, Volume: 2096.309 nm^3\n",
      "Progress:   1.00%, Time: 0.10 ps, Kinetic Temperature: 152.701 K, Volume: 2096.309 nm^3\n",
      "Progress:   1.50%, Time: 0.15 ps, Kinetic Temperature: 155.597 K, Volume: 2096.309 nm^3\n",
      "Progress:   2.00%, Time: 0.20 ps, Kinetic Temperature: 165.408 K, Volume: 2096.309 nm^3\n",
      "Progress:   2.50%, Time: 0.25 ps, Kinetic Temperature: 174.062 K, Volume: 2096.309 nm^3\n",
      "Progress:   3.00%, Time: 0.30 ps, Kinetic Temperature: 180.227 K, Volume: 2096.309 nm^3\n",
      "Progress:   3.50%, Time: 0.35 ps, Kinetic Temperature: 186.005 K, Volume: 2096.309 nm^3\n",
      "Progress:   4.00%, Time: 0.40 ps, Kinetic Temperature: 190.702 K, Volume: 2096.309 nm^3\n",
      "Progress:   4.50%, Time: 0.45 ps, Kinetic Temperature: 195.935 K, Volume: 2096.309 nm^3\n",
      "Progress:   5.00%, Time: 0.50 ps, Kinetic Temperature: 200.323 K, Volume: 2096.309 nm^3\n",
      "Progress:   5.50%, Time: 0.55 ps, Kinetic Temperature: 204.940 K, Volume: 2096.309 nm^3\n",
      "Progress:   6.00%, Time: 0.60 ps, Kinetic Temperature: 208.687 K, Volume: 2096.309 nm^3\n",
      "Progress:   6.50%, Time: 0.65 ps, Kinetic Temperature: 212.369 K, Volume: 2096.309 nm^3\n",
      "Progress:   7.00%, Time: 0.70 ps, Kinetic Temperature: 215.528 K, Volume: 2096.309 nm^3\n",
      "Progress:   7.50%, Time: 0.75 ps, Kinetic Temperature: 220.086 K, Volume: 2096.309 nm^3\n",
      "Progress:   8.00%, Time: 0.80 ps, Kinetic Temperature: 222.408 K, Volume: 2096.309 nm^3\n",
      "Progress:   8.50%, Time: 0.85 ps, Kinetic Temperature: 225.132 K, Volume: 2096.309 nm^3\n",
      "Progress:   9.00%, Time: 0.90 ps, Kinetic Temperature: 227.886 K, Volume: 2096.309 nm^3\n",
      "Progress:   9.50%, Time: 0.95 ps, Kinetic Temperature: 231.560 K, Volume: 2096.309 nm^3\n",
      "Progress:  10.00%, Time: 1.00 ps, Kinetic Temperature: 233.454 K, Volume: 2096.309 nm^3\n",
      "Progress:  10.50%, Time: 1.05 ps, Kinetic Temperature: 235.496 K, Volume: 2096.309 nm^3\n",
      "Progress:  11.00%, Time: 1.10 ps, Kinetic Temperature: 238.294 K, Volume: 2096.309 nm^3\n",
      "Progress:  11.50%, Time: 1.15 ps, Kinetic Temperature: 240.504 K, Volume: 2096.309 nm^3\n",
      "Progress:  12.00%, Time: 1.20 ps, Kinetic Temperature: 243.041 K, Volume: 2096.309 nm^3\n",
      "Progress:  12.50%, Time: 1.25 ps, Kinetic Temperature: 245.843 K, Volume: 2096.309 nm^3\n",
      "Progress:  13.00%, Time: 1.30 ps, Kinetic Temperature: 246.320 K, Volume: 2096.309 nm^3\n",
      "Progress:  13.50%, Time: 1.35 ps, Kinetic Temperature: 248.879 K, Volume: 2096.309 nm^3\n",
      "Progress:  14.00%, Time: 1.40 ps, Kinetic Temperature: 250.502 K, Volume: 2096.309 nm^3\n",
      "Progress:  14.50%, Time: 1.45 ps, Kinetic Temperature: 251.320 K, Volume: 2096.309 nm^3\n",
      "Progress:  15.00%, Time: 1.50 ps, Kinetic Temperature: 253.500 K, Volume: 2096.309 nm^3\n",
      "Progress:  15.50%, Time: 1.55 ps, Kinetic Temperature: 255.316 K, Volume: 2096.309 nm^3\n",
      "Progress:  16.00%, Time: 1.60 ps, Kinetic Temperature: 256.597 K, Volume: 2096.309 nm^3\n",
      "Progress:  16.50%, Time: 1.65 ps, Kinetic Temperature: 257.260 K, Volume: 2096.309 nm^3\n",
      "Progress:  17.00%, Time: 1.70 ps, Kinetic Temperature: 259.280 K, Volume: 2096.309 nm^3\n",
      "Progress:  17.50%, Time: 1.75 ps, Kinetic Temperature: 260.667 K, Volume: 2096.309 nm^3\n",
      "Progress:  18.00%, Time: 1.80 ps, Kinetic Temperature: 261.908 K, Volume: 2096.309 nm^3\n",
      "Progress:  18.50%, Time: 1.85 ps, Kinetic Temperature: 262.778 K, Volume: 2096.309 nm^3\n",
      "Progress:  19.00%, Time: 1.90 ps, Kinetic Temperature: 263.781 K, Volume: 2096.309 nm^3\n",
      "Progress:  19.50%, Time: 1.95 ps, Kinetic Temperature: 264.807 K, Volume: 2096.309 nm^3\n",
      "Progress:  20.00%, Time: 2.00 ps, Kinetic Temperature: 266.602 K, Volume: 2096.309 nm^3\n",
      "Progress:  20.50%, Time: 2.05 ps, Kinetic Temperature: 266.831 K, Volume: 2096.309 nm^3\n",
      "Progress:  21.00%, Time: 2.10 ps, Kinetic Temperature: 268.224 K, Volume: 2096.309 nm^3\n",
      "Progress:  21.50%, Time: 2.15 ps, Kinetic Temperature: 269.491 K, Volume: 2096.309 nm^3\n",
      "Progress:  22.00%, Time: 2.20 ps, Kinetic Temperature: 269.513 K, Volume: 2096.309 nm^3\n",
      "Progress:  22.50%, Time: 2.25 ps, Kinetic Temperature: 270.180 K, Volume: 2096.309 nm^3\n",
      "Progress:  23.00%, Time: 2.30 ps, Kinetic Temperature: 272.249 K, Volume: 2096.309 nm^3\n",
      "Progress:  23.50%, Time: 2.35 ps, Kinetic Temperature: 273.308 K, Volume: 2096.309 nm^3\n",
      "Progress:  24.00%, Time: 2.40 ps, Kinetic Temperature: 273.263 K, Volume: 2096.309 nm^3\n",
      "Progress:  24.50%, Time: 2.45 ps, Kinetic Temperature: 274.264 K, Volume: 2096.309 nm^3\n",
      "Progress:  25.00%, Time: 2.50 ps, Kinetic Temperature: 275.636 K, Volume: 2096.309 nm^3\n",
      "Progress:  25.50%, Time: 2.55 ps, Kinetic Temperature: 276.314 K, Volume: 2096.309 nm^3\n",
      "Progress:  26.00%, Time: 2.60 ps, Kinetic Temperature: 276.421 K, Volume: 2096.309 nm^3\n",
      "Progress:  26.50%, Time: 2.65 ps, Kinetic Temperature: 276.204 K, Volume: 2096.309 nm^3\n",
      "Progress:  27.00%, Time: 2.70 ps, Kinetic Temperature: 277.190 K, Volume: 2096.309 nm^3\n",
      "Progress:  27.50%, Time: 2.75 ps, Kinetic Temperature: 278.772 K, Volume: 2096.309 nm^3\n",
      "Progress:  28.00%, Time: 2.80 ps, Kinetic Temperature: 279.201 K, Volume: 2096.309 nm^3\n",
      "Progress:  28.50%, Time: 2.85 ps, Kinetic Temperature: 279.271 K, Volume: 2096.309 nm^3\n",
      "Progress:  29.00%, Time: 2.90 ps, Kinetic Temperature: 279.880 K, Volume: 2096.309 nm^3\n",
      "Progress:  29.50%, Time: 2.95 ps, Kinetic Temperature: 280.506 K, Volume: 2096.309 nm^3\n",
      "Progress:  30.00%, Time: 3.00 ps, Kinetic Temperature: 280.720 K, Volume: 2096.309 nm^3\n",
      "Progress:  30.50%, Time: 3.05 ps, Kinetic Temperature: 282.154 K, Volume: 2096.309 nm^3\n",
      "Progress:  31.00%, Time: 3.10 ps, Kinetic Temperature: 282.178 K, Volume: 2096.309 nm^3\n",
      "Progress:  31.50%, Time: 3.15 ps, Kinetic Temperature: 283.663 K, Volume: 2096.309 nm^3\n",
      "Progress:  32.00%, Time: 3.20 ps, Kinetic Temperature: 283.537 K, Volume: 2096.309 nm^3\n",
      "Progress:  32.50%, Time: 3.25 ps, Kinetic Temperature: 284.168 K, Volume: 2096.309 nm^3\n",
      "Progress:  33.00%, Time: 3.30 ps, Kinetic Temperature: 284.444 K, Volume: 2096.309 nm^3\n",
      "Progress:  33.50%, Time: 3.35 ps, Kinetic Temperature: 285.343 K, Volume: 2096.309 nm^3\n",
      "Progress:  34.00%, Time: 3.40 ps, Kinetic Temperature: 285.389 K, Volume: 2096.309 nm^3\n",
      "Progress:  34.50%, Time: 3.45 ps, Kinetic Temperature: 285.234 K, Volume: 2096.309 nm^3\n",
      "Progress:  35.00%, Time: 3.50 ps, Kinetic Temperature: 286.332 K, Volume: 2096.309 nm^3\n",
      "Progress:  35.50%, Time: 3.55 ps, Kinetic Temperature: 286.066 K, Volume: 2096.309 nm^3\n",
      "Progress:  36.00%, Time: 3.60 ps, Kinetic Temperature: 287.101 K, Volume: 2096.309 nm^3\n",
      "Progress:  36.50%, Time: 3.65 ps, Kinetic Temperature: 287.224 K, Volume: 2096.309 nm^3\n",
      "Progress:  37.00%, Time: 3.70 ps, Kinetic Temperature: 288.013 K, Volume: 2096.309 nm^3\n",
      "Progress:  37.50%, Time: 3.75 ps, Kinetic Temperature: 287.674 K, Volume: 2096.309 nm^3\n",
      "Progress:  38.00%, Time: 3.80 ps, Kinetic Temperature: 288.604 K, Volume: 2096.309 nm^3\n",
      "Progress:  38.50%, Time: 3.85 ps, Kinetic Temperature: 288.914 K, Volume: 2096.309 nm^3\n",
      "Progress:  39.00%, Time: 3.90 ps, Kinetic Temperature: 288.841 K, Volume: 2096.309 nm^3\n",
      "Progress:  39.50%, Time: 3.95 ps, Kinetic Temperature: 288.847 K, Volume: 2096.309 nm^3\n",
      "Progress:  40.00%, Time: 4.00 ps, Kinetic Temperature: 289.672 K, Volume: 2096.309 nm^3\n",
      "Progress:  40.50%, Time: 4.05 ps, Kinetic Temperature: 288.346 K, Volume: 2096.309 nm^3\n",
      "Progress:  41.00%, Time: 4.10 ps, Kinetic Temperature: 288.069 K, Volume: 2096.309 nm^3\n",
      "Progress:  41.50%, Time: 4.15 ps, Kinetic Temperature: 288.484 K, Volume: 2096.309 nm^3\n",
      "Progress:  42.00%, Time: 4.20 ps, Kinetic Temperature: 288.328 K, Volume: 2096.309 nm^3\n",
      "Progress:  42.50%, Time: 4.25 ps, Kinetic Temperature: 289.445 K, Volume: 2096.309 nm^3\n",
      "Progress:  43.00%, Time: 4.30 ps, Kinetic Temperature: 290.630 K, Volume: 2096.309 nm^3\n",
      "Progress:  43.50%, Time: 4.35 ps, Kinetic Temperature: 290.542 K, Volume: 2096.309 nm^3\n",
      "Progress:  44.00%, Time: 4.40 ps, Kinetic Temperature: 291.357 K, Volume: 2096.309 nm^3\n",
      "Progress:  44.50%, Time: 4.45 ps, Kinetic Temperature: 291.334 K, Volume: 2096.309 nm^3\n",
      "Progress:  45.00%, Time: 4.50 ps, Kinetic Temperature: 291.524 K, Volume: 2096.309 nm^3\n",
      "Progress:  45.50%, Time: 4.55 ps, Kinetic Temperature: 291.978 K, Volume: 2096.309 nm^3\n",
      "Progress:  46.00%, Time: 4.60 ps, Kinetic Temperature: 291.103 K, Volume: 2096.309 nm^3\n",
      "Progress:  46.50%, Time: 4.65 ps, Kinetic Temperature: 291.080 K, Volume: 2096.309 nm^3\n",
      "Progress:  47.00%, Time: 4.70 ps, Kinetic Temperature: 291.048 K, Volume: 2096.309 nm^3\n",
      "Progress:  47.50%, Time: 4.75 ps, Kinetic Temperature: 292.746 K, Volume: 2096.309 nm^3\n",
      "Progress:  48.00%, Time: 4.80 ps, Kinetic Temperature: 292.974 K, Volume: 2096.309 nm^3\n",
      "Progress:  48.50%, Time: 4.85 ps, Kinetic Temperature: 293.046 K, Volume: 2096.309 nm^3\n",
      "Progress:  49.00%, Time: 4.90 ps, Kinetic Temperature: 293.152 K, Volume: 2096.309 nm^3\n",
      "Progress:  49.50%, Time: 4.95 ps, Kinetic Temperature: 293.245 K, Volume: 2096.309 nm^3\n",
      "Progress:  50.00%, Time: 5.00 ps, Kinetic Temperature: 292.547 K, Volume: 2096.309 nm^3\n",
      "Progress:  50.50%, Time: 5.05 ps, Kinetic Temperature: 292.698 K, Volume: 2096.309 nm^3\n",
      "Progress:  51.00%, Time: 5.10 ps, Kinetic Temperature: 293.028 K, Volume: 2096.309 nm^3\n",
      "Progress:  51.50%, Time: 5.15 ps, Kinetic Temperature: 293.328 K, Volume: 2096.309 nm^3\n",
      "Progress:  52.00%, Time: 5.20 ps, Kinetic Temperature: 292.584 K, Volume: 2096.309 nm^3\n",
      "Progress:  52.50%, Time: 5.25 ps, Kinetic Temperature: 292.504 K, Volume: 2096.309 nm^3\n",
      "Progress:  53.00%, Time: 5.30 ps, Kinetic Temperature: 293.665 K, Volume: 2096.309 nm^3\n",
      "Progress:  53.50%, Time: 5.35 ps, Kinetic Temperature: 293.137 K, Volume: 2096.309 nm^3\n",
      "Progress:  54.00%, Time: 5.40 ps, Kinetic Temperature: 293.040 K, Volume: 2096.309 nm^3\n",
      "Progress:  54.50%, Time: 5.45 ps, Kinetic Temperature: 293.349 K, Volume: 2096.309 nm^3\n",
      "Progress:  55.00%, Time: 5.50 ps, Kinetic Temperature: 293.337 K, Volume: 2096.309 nm^3\n",
      "Progress:  55.50%, Time: 5.55 ps, Kinetic Temperature: 293.277 K, Volume: 2096.309 nm^3\n",
      "Progress:  56.00%, Time: 5.60 ps, Kinetic Temperature: 292.907 K, Volume: 2096.309 nm^3\n",
      "Progress:  56.50%, Time: 5.65 ps, Kinetic Temperature: 293.533 K, Volume: 2096.309 nm^3\n",
      "Progress:  57.00%, Time: 5.70 ps, Kinetic Temperature: 293.758 K, Volume: 2096.309 nm^3\n",
      "Progress:  57.50%, Time: 5.75 ps, Kinetic Temperature: 294.146 K, Volume: 2096.309 nm^3\n",
      "Progress:  58.00%, Time: 5.80 ps, Kinetic Temperature: 294.687 K, Volume: 2096.309 nm^3\n",
      "Progress:  58.50%, Time: 5.85 ps, Kinetic Temperature: 294.556 K, Volume: 2096.309 nm^3\n",
      "Progress:  59.00%, Time: 5.90 ps, Kinetic Temperature: 295.363 K, Volume: 2096.309 nm^3\n",
      "Progress:  59.50%, Time: 5.95 ps, Kinetic Temperature: 294.312 K, Volume: 2096.309 nm^3\n",
      "Progress:  60.00%, Time: 6.00 ps, Kinetic Temperature: 295.168 K, Volume: 2096.309 nm^3\n",
      "Progress:  60.50%, Time: 6.05 ps, Kinetic Temperature: 295.109 K, Volume: 2096.309 nm^3\n",
      "Progress:  61.00%, Time: 6.10 ps, Kinetic Temperature: 294.650 K, Volume: 2096.309 nm^3\n",
      "Progress:  61.50%, Time: 6.15 ps, Kinetic Temperature: 295.241 K, Volume: 2096.309 nm^3\n",
      "Progress:  62.00%, Time: 6.20 ps, Kinetic Temperature: 295.496 K, Volume: 2096.309 nm^3\n",
      "Progress:  62.50%, Time: 6.25 ps, Kinetic Temperature: 294.037 K, Volume: 2096.309 nm^3\n",
      "Progress:  63.00%, Time: 6.30 ps, Kinetic Temperature: 295.454 K, Volume: 2096.309 nm^3\n",
      "Progress:  63.50%, Time: 6.35 ps, Kinetic Temperature: 295.839 K, Volume: 2096.309 nm^3\n",
      "Progress:  64.00%, Time: 6.40 ps, Kinetic Temperature: 295.389 K, Volume: 2096.309 nm^3\n",
      "Progress:  64.50%, Time: 6.45 ps, Kinetic Temperature: 296.403 K, Volume: 2096.309 nm^3\n",
      "Progress:  65.00%, Time: 6.50 ps, Kinetic Temperature: 295.991 K, Volume: 2096.309 nm^3\n",
      "Progress:  65.50%, Time: 6.55 ps, Kinetic Temperature: 296.125 K, Volume: 2096.309 nm^3\n",
      "Progress:  66.00%, Time: 6.60 ps, Kinetic Temperature: 295.260 K, Volume: 2096.309 nm^3\n",
      "Progress:  66.50%, Time: 6.65 ps, Kinetic Temperature: 296.558 K, Volume: 2096.309 nm^3\n",
      "Progress:  67.00%, Time: 6.70 ps, Kinetic Temperature: 296.010 K, Volume: 2096.309 nm^3\n",
      "Progress:  67.50%, Time: 6.75 ps, Kinetic Temperature: 296.317 K, Volume: 2096.309 nm^3\n",
      "Progress:  68.00%, Time: 6.80 ps, Kinetic Temperature: 295.100 K, Volume: 2096.309 nm^3\n",
      "Progress:  68.50%, Time: 6.85 ps, Kinetic Temperature: 296.555 K, Volume: 2096.309 nm^3\n",
      "Progress:  69.00%, Time: 6.90 ps, Kinetic Temperature: 295.676 K, Volume: 2096.309 nm^3\n",
      "Progress:  69.50%, Time: 6.95 ps, Kinetic Temperature: 295.635 K, Volume: 2096.309 nm^3\n",
      "Progress:  70.00%, Time: 7.00 ps, Kinetic Temperature: 296.676 K, Volume: 2096.309 nm^3\n",
      "Progress:  70.50%, Time: 7.05 ps, Kinetic Temperature: 296.621 K, Volume: 2096.309 nm^3\n",
      "Progress:  71.00%, Time: 7.10 ps, Kinetic Temperature: 296.501 K, Volume: 2096.309 nm^3\n",
      "Progress:  71.50%, Time: 7.15 ps, Kinetic Temperature: 296.895 K, Volume: 2096.309 nm^3\n",
      "Progress:  72.00%, Time: 7.20 ps, Kinetic Temperature: 295.902 K, Volume: 2096.309 nm^3\n",
      "Progress:  72.50%, Time: 7.25 ps, Kinetic Temperature: 297.349 K, Volume: 2096.309 nm^3\n",
      "Progress:  73.00%, Time: 7.30 ps, Kinetic Temperature: 297.024 K, Volume: 2096.309 nm^3\n",
      "Progress:  73.50%, Time: 7.35 ps, Kinetic Temperature: 295.599 K, Volume: 2096.309 nm^3\n",
      "Progress:  74.00%, Time: 7.40 ps, Kinetic Temperature: 296.007 K, Volume: 2096.309 nm^3\n",
      "Progress:  74.50%, Time: 7.45 ps, Kinetic Temperature: 296.184 K, Volume: 2096.309 nm^3\n",
      "Progress:  75.00%, Time: 7.50 ps, Kinetic Temperature: 296.178 K, Volume: 2096.309 nm^3\n",
      "Progress:  75.50%, Time: 7.55 ps, Kinetic Temperature: 296.721 K, Volume: 2096.309 nm^3\n",
      "Progress:  76.00%, Time: 7.60 ps, Kinetic Temperature: 297.251 K, Volume: 2096.309 nm^3\n",
      "Progress:  76.50%, Time: 7.65 ps, Kinetic Temperature: 296.485 K, Volume: 2096.309 nm^3\n",
      "Progress:  77.00%, Time: 7.70 ps, Kinetic Temperature: 296.645 K, Volume: 2096.309 nm^3\n",
      "Progress:  77.50%, Time: 7.75 ps, Kinetic Temperature: 295.744 K, Volume: 2096.309 nm^3\n",
      "Progress:  78.00%, Time: 7.80 ps, Kinetic Temperature: 296.760 K, Volume: 2096.309 nm^3\n",
      "Progress:  78.50%, Time: 7.85 ps, Kinetic Temperature: 296.548 K, Volume: 2096.309 nm^3\n",
      "Progress:  79.00%, Time: 7.90 ps, Kinetic Temperature: 296.578 K, Volume: 2096.309 nm^3\n",
      "Progress:  79.50%, Time: 7.95 ps, Kinetic Temperature: 296.710 K, Volume: 2096.309 nm^3\n",
      "Progress:  80.00%, Time: 8.00 ps, Kinetic Temperature: 297.261 K, Volume: 2096.309 nm^3\n",
      "Progress:  80.50%, Time: 8.05 ps, Kinetic Temperature: 297.099 K, Volume: 2096.309 nm^3\n",
      "Progress:  81.00%, Time: 8.10 ps, Kinetic Temperature: 296.645 K, Volume: 2096.309 nm^3\n",
      "Progress:  81.50%, Time: 8.15 ps, Kinetic Temperature: 296.117 K, Volume: 2096.309 nm^3\n",
      "Progress:  82.00%, Time: 8.20 ps, Kinetic Temperature: 295.895 K, Volume: 2096.309 nm^3\n",
      "Progress:  82.50%, Time: 8.25 ps, Kinetic Temperature: 296.139 K, Volume: 2096.309 nm^3\n",
      "Progress:  83.00%, Time: 8.30 ps, Kinetic Temperature: 296.715 K, Volume: 2096.309 nm^3\n",
      "Progress:  83.50%, Time: 8.35 ps, Kinetic Temperature: 296.364 K, Volume: 2096.309 nm^3\n",
      "Progress:  84.00%, Time: 8.40 ps, Kinetic Temperature: 297.259 K, Volume: 2096.309 nm^3\n",
      "Progress:  84.50%, Time: 8.45 ps, Kinetic Temperature: 296.419 K, Volume: 2096.309 nm^3\n",
      "Progress:  85.00%, Time: 8.50 ps, Kinetic Temperature: 296.524 K, Volume: 2096.309 nm^3\n",
      "Progress:  85.50%, Time: 8.55 ps, Kinetic Temperature: 297.126 K, Volume: 2096.309 nm^3\n",
      "Progress:  86.00%, Time: 8.60 ps, Kinetic Temperature: 297.612 K, Volume: 2096.309 nm^3\n",
      "Progress:  86.50%, Time: 8.65 ps, Kinetic Temperature: 296.763 K, Volume: 2096.309 nm^3\n",
      "Progress:  87.00%, Time: 8.70 ps, Kinetic Temperature: 296.818 K, Volume: 2096.309 nm^3\n",
      "Progress:  87.50%, Time: 8.75 ps, Kinetic Temperature: 297.098 K, Volume: 2096.309 nm^3\n",
      "Progress:  88.00%, Time: 8.80 ps, Kinetic Temperature: 297.425 K, Volume: 2096.309 nm^3\n",
      "Progress:  88.50%, Time: 8.85 ps, Kinetic Temperature: 296.474 K, Volume: 2096.309 nm^3\n",
      "Progress:  89.00%, Time: 8.90 ps, Kinetic Temperature: 297.630 K, Volume: 2096.309 nm^3\n",
      "Progress:  89.50%, Time: 8.95 ps, Kinetic Temperature: 296.770 K, Volume: 2096.309 nm^3\n",
      "Progress:  90.00%, Time: 9.00 ps, Kinetic Temperature: 297.152 K, Volume: 2096.309 nm^3\n",
      "Progress:  90.50%, Time: 9.05 ps, Kinetic Temperature: 298.512 K, Volume: 2096.309 nm^3\n",
      "Progress:  91.00%, Time: 9.10 ps, Kinetic Temperature: 297.984 K, Volume: 2096.309 nm^3\n",
      "Progress:  91.50%, Time: 9.15 ps, Kinetic Temperature: 298.031 K, Volume: 2096.309 nm^3\n",
      "Progress:  92.00%, Time: 9.20 ps, Kinetic Temperature: 297.275 K, Volume: 2096.309 nm^3\n",
      "Progress:  92.50%, Time: 9.25 ps, Kinetic Temperature: 297.157 K, Volume: 2096.309 nm^3\n",
      "Progress:  93.00%, Time: 9.30 ps, Kinetic Temperature: 296.328 K, Volume: 2096.309 nm^3\n",
      "Progress:  93.50%, Time: 9.35 ps, Kinetic Temperature: 296.169 K, Volume: 2096.309 nm^3\n",
      "Progress:  94.00%, Time: 9.40 ps, Kinetic Temperature: 296.575 K, Volume: 2096.309 nm^3\n",
      "Progress:  94.50%, Time: 9.45 ps, Kinetic Temperature: 295.949 K, Volume: 2096.309 nm^3\n",
      "Progress:  95.00%, Time: 9.50 ps, Kinetic Temperature: 296.166 K, Volume: 2096.309 nm^3\n",
      "Progress:  95.50%, Time: 9.55 ps, Kinetic Temperature: 296.410 K, Volume: 2096.309 nm^3\n",
      "Progress:  96.00%, Time: 9.60 ps, Kinetic Temperature: 295.994 K, Volume: 2096.309 nm^3\n",
      "Progress:  96.50%, Time: 9.65 ps, Kinetic Temperature: 296.125 K, Volume: 2096.309 nm^3\n",
      "Progress:  97.00%, Time: 9.70 ps, Kinetic Temperature: 298.144 K, Volume: 2096.309 nm^3\n",
      "Progress:  97.50%, Time: 9.75 ps, Kinetic Temperature: 297.507 K, Volume: 2096.309 nm^3\n",
      "Progress:  98.00%, Time: 9.80 ps, Kinetic Temperature: 297.593 K, Volume: 2096.309 nm^3\n",
      "Progress:  98.50%, Time: 9.85 ps, Kinetic Temperature: 297.443 K, Volume: 2096.309 nm^3\n",
      "Progress:  99.00%, Time: 9.90 ps, Kinetic Temperature: 297.346 K, Volume: 2096.309 nm^3\n",
      "Progress:  99.50%, Time: 9.95 ps, Kinetic Temperature: 296.711 K, Volume: 2096.309 nm^3\n",
      "Progress: 100.00%, Time: 10.00 ps, Kinetic Temperature: 297.374 K, Volume: 2096.309 nm^3\n"
     ]
    }
   ],
   "source": [
    "for iteration in range(1, number_iterations+1):\n",
    "    integrator.step(steps_per_iteration)\n",
    "    state = simulation.context.getState(getEnergy=True)\n",
    "    time = state.getTime()\n",
    "    potential_energy = state.getPotentialEnergy()\n",
    "    kinetic_energy = state.getKineticEnergy()\n",
    "    volume = state.getPeriodicBoxVolume()\n",
    "    density = (net_mass / volume).in_units_of(unit.gram / unit.centimeter**3)\n",
    "    kinetic_temperature = (2.0 * kinetic_energy / kB / n_degrees_of_freedom).in_units_of(unit.kelvin)\n",
    "    data['time'][iteration]=time\n",
    "    data['potential'][iteration] = potential_energy\n",
    "    data['kinetic'][iteration] = kinetic_energy\n",
    "    data['volume'][iteration] = volume\n",
    "    data['density'][iteration] = density\n",
    "    data['kinetic_temperature'][iteration] = kinetic_temperature\n",
    "    if (iteration%elapsed_iterations_verbose)==0:\n",
    "        printout_status(iteration, number_iterations, time, kinetic_temperature, volume)\n",
    "    if (iteration%elapsed_iterations_checkpoint)==0:\n",
    "        save_checkpoint_state(simulation)"
   ]
  },
  {
   "cell_type": "markdown",
   "metadata": {},
   "source": [
    "#### Savind Data"
   ]
  },
  {
   "cell_type": "code",
   "execution_count": 23,
   "metadata": {},
   "outputs": [],
   "source": [
    "with open(os.path.join('data.pkl'), 'wb') as f:\n",
    "    pickle.dump(data, f)"
   ]
  },
  {
   "cell_type": "markdown",
   "metadata": {},
   "source": [
    "#### Saving Finnal State"
   ]
  },
  {
   "cell_type": "code",
   "execution_count": 24,
   "metadata": {},
   "outputs": [],
   "source": [
    "save_finnal_state(simulation)\n",
    "m3t.convert(simulation,'HIF1_equilibrado_NVT.pdb')"
   ]
  },
  {
   "cell_type": "code",
   "execution_count": 25,
   "metadata": {},
   "outputs": [],
   "source": [
    "#### Representando los datos"
   ]
  },
  {
   "cell_type": "code",
   "execution_count": 26,
   "metadata": {},
   "outputs": [
    {
     "data": {
      "text/plain": [
       "[<matplotlib.lines.Line2D at 0x7fe01d90e0f0>]"
      ]
     },
     "execution_count": 26,
     "metadata": {},
     "output_type": "execute_result"
    },
    {
     "data": {
      "image/png": "[encoded data removed]",
      "text/plain": [
       "<Figure size 432x288 with 1 Axes>"
      ]
     },
     "metadata": {
      "needs_background": "light"
     },
     "output_type": "display_data"
    }
   ],
   "source": [
    "plt.plot(data['time'], data['potential'])"
   ]
  },
  {
   "cell_type": "code",
   "execution_count": 27,
   "metadata": {},
   "outputs": [
    {
     "data": {
      "text/plain": [
       "[<matplotlib.lines.Line2D at 0x7fe01d873dd8>]"
      ]
     },
     "execution_count": 27,
     "metadata": {},
     "output_type": "execute_result"
    },
    {
     "data": {
      "image/png": "[encoded data removed]",
      "text/plain": [
       "<Figure size 432x288 with 1 Axes>"
      ]
     },
     "metadata": {
      "needs_background": "light"
     },
     "output_type": "display_data"
    }
   ],
   "source": [
    "plt.plot(data['time'], data['kinetic'])"
   ]
  },
  {
   "cell_type": "code",
   "execution_count": 28,
   "metadata": {},
   "outputs": [
    {
     "data": {
      "text/plain": [
       "[<matplotlib.lines.Line2D at 0x7fe01d85a320>]"
      ]
     },
     "execution_count": 28,
     "metadata": {},
     "output_type": "execute_result"
    },
    {
     "data": {
      "image/png": "[encoded data removed]",
      "text/plain": [
       "<Figure size 432x288 with 1 Axes>"
      ]
     },
     "metadata": {
      "needs_background": "light"
     },
     "output_type": "display_data"
    }
   ],
   "source": [
    "plt.plot(data['time'], data['kinetic_temperature'])"
   ]
  },
  {
   "cell_type": "code",
   "execution_count": 29,
   "metadata": {},
   "outputs": [
    {
     "data": {
      "text/plain": [
       "[<matplotlib.lines.Line2D at 0x7fe01db42f98>]"
      ]
     },
     "execution_count": 29,
     "metadata": {},
     "output_type": "execute_result"
    },
    {
     "data": {
      "image/png": "[encoded data removed]",
      "text/plain": [
       "<Figure size 432x288 with 1 Axes>"
      ]
     },
     "metadata": {
      "needs_background": "light"
     },
     "output_type": "display_data"
    }
   ],
   "source": [
    "plt.plot(data['time'], data['density'])"
   ]
  },
  {
   "cell_type": "code",
   "execution_count": null,
   "metadata": {},
   "outputs": [],
   "source": []
  }
 ],
 "metadata": {
  "kernelspec": {
   "display_name": "Python 3",
   "language": "python",
   "name": "python3"
  },
  "language_info": {
   "codemirror_mode": {
    "name": "ipython",
    "version": 3
   },
   "file_extension": ".py",
   "mimetype": "text/x-python",
   "name": "python",
   "nbconvert_exporter": "python",
   "pygments_lexer": "ipython3",
   "version": "3.7.3"
  }
 },
 "nbformat": 4,
 "nbformat_minor": 2
}
