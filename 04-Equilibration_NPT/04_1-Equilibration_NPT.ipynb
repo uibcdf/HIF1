{
 "cells": [
  {
   "cell_type": "code",
   "execution_count": 1,
   "metadata": {},
   "outputs": [
    {
     "name": "stderr",
     "output_type": "stream",
     "text": [
      "/home/liliana/Myopt/Miniconda/miniconda3/envs/UIBCDF_lab/lib/python3.7/site-packages/yank/experiment.py:1170: YAMLLoadWarning: calling yaml.load() without Loader=... is deprecated, as the default Loader is unsafe. Please read https://msg.pyyaml.org/load for full details.\n",
      "  \"\"\")\n"
     ]
    }
   ],
   "source": [
    "\n",
    "import molmodmt as m3t\n",
    "import simtk.openmm as mm\n",
    "import simtk.openmm.app as app\n",
    "import simtk.unit as unit\n",
    "\n",
    "from openmmtools.integrators import LangevinIntegrator\n",
    "import numpy as np\n",
    "import os\n",
    "import pickle as pickle\n",
    "\n",
    "import matplotlib.pyplot as plt"
   ]
  },
  {
   "cell_type": "markdown",
   "metadata": {},
   "source": [
    "#### Loading PDB"
   ]
  },
  {
   "cell_type": "code",
   "execution_count": 2,
   "metadata": {},
   "outputs": [],
   "source": [
    " modelo_HIF_termalizado= m3t.convert('HIF1_equilibrado_NVT.pdb', 'openmm.Modeller')"
   ]
  },
  {
   "cell_type": "markdown",
   "metadata": {},
   "source": [
    "#### System"
   ]
  },
  {
   "cell_type": "code",
   "execution_count": 3,
   "metadata": {},
   "outputs": [],
   "source": [
    "topology = modelo_HIF_termalizado.topology\n",
    "forcefield = app.ForceField('amber99sbildn.xml','tip3p.xml')\n",
    "system = forcefield.createSystem(topology, nonbondedMethod=app.PME, nonbondedCutoff=1.2*unit.nanometers, \n",
    "                        constraints=app.HBonds,rigidWater=True, ewaldErrorTolerance=0.0005)"
   ]
  },
  {
   "cell_type": "markdown",
   "metadata": {},
   "source": [
    "#### Thermodynamic State"
   ]
  },
  {
   "cell_type": "code",
   "execution_count": 4,
   "metadata": {},
   "outputs": [],
   "source": [
    "kB = unit.BOLTZMANN_CONSTANT_kB * unit.AVOGADRO_CONSTANT_NA\n",
    "temperature = 300.0*unit.kelvin\n",
    "pressure    = 1.0*unit.atmosphere"
   ]
  },
  {
   "cell_type": "markdown",
   "metadata": {},
   "source": [
    "#### Integrator"
   ]
  },
  {
   "cell_type": "code",
   "execution_count": 5,
   "metadata": {},
   "outputs": [],
   "source": [
    "friction   = 1.0/unit.picosecond\n",
    "step_size  = 2.0*unit.femtoseconds\n",
    "integrator = LangevinIntegrator(temperature, friction, step_size)\n",
    "integrator.setConstraintTolerance(0.00001)"
   ]
  },
  {
   "cell_type": "markdown",
   "metadata": {},
   "source": [
    "#### Barostat"
   ]
  },
  {
   "cell_type": "code",
   "execution_count": 6,
   "metadata": {},
   "outputs": [
    {
     "data": {
      "text/plain": [
       "5"
      ]
     },
     "execution_count": 6,
     "metadata": {},
     "output_type": "execute_result"
    }
   ],
   "source": [
    "barostat_interval = 25\n",
    "barostat = mm.MonteCarloBarostat(pressure, temperature, barostat_interval)\n",
    "system.addForce(barostat)"
   ]
  },
  {
   "cell_type": "markdown",
   "metadata": {},
   "source": [
    "#### Platform"
   ]
  },
  {
   "cell_type": "code",
   "execution_count": 7,
   "metadata": {},
   "outputs": [],
   "source": [
    "platform = mm.Platform.getPlatformByName('CUDA')\n",
    "properties = {'CudaPrecision': 'mixed'}"
   ]
  },
  {
   "cell_type": "markdown",
   "metadata": {},
   "source": [
    "#### Simulation"
   ]
  },
  {
   "cell_type": "code",
   "execution_count": 8,
   "metadata": {},
   "outputs": [],
   "source": [
    "simulation = app.Simulation(topology, system, integrator, platform, properties)"
   ]
  },
  {
   "cell_type": "markdown",
   "metadata": {},
   "source": [
    "#### Initial Conditions"
   ]
  },
  {
   "cell_type": "code",
   "execution_count": 9,
   "metadata": {},
   "outputs": [],
   "source": [
    "restart_pkl = open(\"restart1.pkl\",\"rb\")\n",
    "\n",
    "_, init_positions, init_velocities, init_box_vectors = pickle.load(restart_pkl)\n",
    "init_positions = init_positions * unit.nanometers\n",
    "init_velocities = init_velocities * unit.nanometers*unit.picoseconds\n",
    "init_box_vectors = init_box_vectors * unit.nanometers\n",
    "\n",
    "restart_pkl.close()\n",
    "\n",
    "simulation.context.setPositions(init_positions)\n",
    "simulation.context.setVelocities(init_velocities)\n",
    "\n",
    "simulation.context.setPeriodicBoxVectors(*init_box_vectors)\n",
    "#simulation.context.setPeriodicBoxVectors(init_box_vectors[0],init_box_vectors[1],init_box_vectors[2])\n"
   ]
  },
  {
   "cell_type": "markdown",
   "metadata": {},
   "source": [
    "#### Iterations Parameters"
   ]
  },
  {
   "cell_type": "code",
   "execution_count": 10,
   "metadata": {},
   "outputs": [],
   "source": [
    "time_simulation = 300.0 * unit.picoseconds\n",
    "time_saving = 1.0 * unit.picoseconds\n",
    "time_verbose = 1.0 * unit.picoseconds\n",
    "time_checkpoint = 1.0 * unit.picoseconds\n",
    "\n",
    "number_iterations = int(time_simulation/time_saving)\n",
    "elapsed_iterations_verbose = int(time_verbose/time_saving)\n",
    "elapsed_iterations_checkpoint = int(time_checkpoint/time_saving)\n",
    "steps_per_iteration = int(time_saving/step_size)\n",
    "total_simulation_steps = number_iterations*steps_per_iteration"
   ]
  },
  {
   "cell_type": "markdown",
   "metadata": {},
   "source": [
    "#### Reporters"
   ]
  },
  {
   "cell_type": "code",
   "execution_count": 11,
   "metadata": {},
   "outputs": [],
   "source": [
    "net_mass = 0.0 * unit.amu\n",
    "for particle_index in range(system.getNumParticles()):\n",
    "    net_mass += system.getParticleMass(particle_index)\n",
    "\n",
    "net_mass = net_mass.in_units_of(unit.gram/unit.mole)/unit.AVOGADRO_CONSTANT_NA\n",
    "\n",
    "n_degrees_of_freedom = 3*system.getNumParticles() - system.getNumConstraints()"
   ]
  },
  {
   "cell_type": "code",
   "execution_count": 12,
   "metadata": {},
   "outputs": [],
   "source": [
    "number_states_saved = number_iterations+1\n",
    "data = dict()\n",
    "data['time'] = unit.Quantity(np.zeros([number_states_saved], np.float64), unit.picoseconds)\n",
    "data['potential'] = unit.Quantity(np.zeros([number_states_saved], np.float64), unit.kilocalories_per_mole)\n",
    "data['kinetic'] = unit.Quantity(np.zeros([number_states_saved], np.float64), unit.kilocalories_per_mole)\n",
    "data['volume'] = unit.Quantity(np.zeros([number_states_saved], np.float64), unit.nanometers**3)\n",
    "data['density'] = unit.Quantity(np.zeros([number_states_saved], np.float64), unit.gram / unit.centimeters**3)\n",
    "data['kinetic_temperature'] = unit.Quantity(np.zeros([number_states_saved], np.float64), unit.kelvin)"
   ]
  },
  {
   "cell_type": "markdown",
   "metadata": {},
   "source": [
    "#### Simulation Status"
   ]
  },
  {
   "cell_type": "code",
   "execution_count": 13,
   "metadata": {},
   "outputs": [],
   "source": [
    "def printout_status(iteration, number_iterations, time, kinetic_temperature, volume):\n",
    "    progression = 100.0*(iteration/number_iterations)\n",
    "    msg=\"Progress: {:6.2f}%, Time: {:.2f} ps, Kinetic Temperature: {:.3f} K, Volume: {:.3f} nm^3\"\n",
    "    print(msg.format(progression, time.value_in_unit(unit.picoseconds),\n",
    "                  kinetic_temperature.value_in_unit(unit.kelvin), volume.value_in_unit(unit.nanometers**3))) "
   ]
  },
  {
   "cell_type": "markdown",
   "metadata": {},
   "source": [
    "#### CheckPoint and Finnal State"
   ]
  },
  {
   "cell_type": "code",
   "execution_count": 14,
   "metadata": {},
   "outputs": [],
   "source": [
    "def dump_state(simulation, filename):\n",
    "\n",
    "    state = simulation.context.getState(getPositions=True, getVelocities=True)\n",
    "    time = state.getTime() / unit.picoseconds\n",
    "    positions = state.getPositions() / unit.nanometers\n",
    "    velocities = state.getVelocities() / unit.nanometers*unit.picoseconds\n",
    "    box_vectors = state.getPeriodicBoxVectors() / unit.nanometers\n",
    "\n",
    "    with open(os.path.join(filename), 'wb') as f:\n",
    "        pickle.dump((time, positions, velocities, box_vectors), f)\n",
    "\n",
    "def save_checkpoint_state(simulation):\n",
    "    return dump_state(simulation, \"checkpoint.pkl\")\n",
    "\n",
    "def save_finnal_state(simulation):\n",
    "    return dump_state(simulation, \"continuation.pkl\")"
   ]
  },
  {
   "cell_type": "markdown",
   "metadata": {},
   "source": [
    "#### Reporting Initial State"
   ]
  },
  {
   "cell_type": "code",
   "execution_count": 15,
   "metadata": {},
   "outputs": [
    {
     "name": "stdout",
     "output_type": "stream",
     "text": [
      "Progress:   0.00%, Time: 0.00 ps, Kinetic Temperature: 297.374 K, Volume: 2096.309 nm^3\n"
     ]
    }
   ],
   "source": [
    "state = simulation.context.getState(getEnergy=True)\n",
    "time = state.getTime()\n",
    "potential_energy = state.getPotentialEnergy()\n",
    "kinetic_energy = state.getKineticEnergy()\n",
    "volume = state.getPeriodicBoxVolume()\n",
    "density = (net_mass / volume).in_units_of(unit.gram / unit.centimeter**3)\n",
    "kinetic_temperature = (2.0 * kinetic_energy / kB / n_degrees_of_freedom).in_units_of(unit.kelvin)\n",
    "data['time'][0] = time\n",
    "data['potential'][0] = potential_energy\n",
    "data['kinetic'][0] = kinetic_energy\n",
    "data['volume'][0] = volume\n",
    "data['density'][0] = density\n",
    "data['kinetic_temperature'][0] = kinetic_temperature\n",
    "\n",
    "printout_status(0, number_iterations, time, kinetic_temperature, volume)"
   ]
  },
  {
   "cell_type": "markdown",
   "metadata": {},
   "source": [
    "#### Running Simulation"
   ]
  },
  {
   "cell_type": "code",
   "execution_count": 16,
   "metadata": {},
   "outputs": [
    {
     "name": "stdout",
     "output_type": "stream",
     "text": [
      "Progress:   0.33%, Time: 1.00 ps, Kinetic Temperature: 298.596 K, Volume: 2046.319 nm^3\n",
      "Progress:   0.67%, Time: 2.00 ps, Kinetic Temperature: 298.122 K, Volume: 2029.295 nm^3\n",
      "Progress:   1.00%, Time: 3.00 ps, Kinetic Temperature: 299.095 K, Volume: 2002.021 nm^3\n",
      "Progress:   1.33%, Time: 4.00 ps, Kinetic Temperature: 297.904 K, Volume: 1977.610 nm^3\n",
      "Progress:   1.67%, Time: 5.00 ps, Kinetic Temperature: 298.905 K, Volume: 1970.312 nm^3\n",
      "Progress:   2.00%, Time: 6.00 ps, Kinetic Temperature: 298.860 K, Volume: 1961.172 nm^3\n",
      "Progress:   2.33%, Time: 7.00 ps, Kinetic Temperature: 297.659 K, Volume: 1960.764 nm^3\n",
      "Progress:   2.67%, Time: 8.00 ps, Kinetic Temperature: 298.555 K, Volume: 1960.222 nm^3\n",
      "Progress:   3.00%, Time: 9.00 ps, Kinetic Temperature: 297.296 K, Volume: 1959.714 nm^3\n",
      "Progress:   3.33%, Time: 10.00 ps, Kinetic Temperature: 297.159 K, Volume: 1958.946 nm^3\n",
      "Progress:   3.67%, Time: 11.00 ps, Kinetic Temperature: 298.508 K, Volume: 1957.089 nm^3\n",
      "Progress:   4.00%, Time: 12.00 ps, Kinetic Temperature: 297.647 K, Volume: 1954.448 nm^3\n",
      "Progress:   4.33%, Time: 13.00 ps, Kinetic Temperature: 298.373 K, Volume: 1948.480 nm^3\n",
      "Progress:   4.67%, Time: 14.00 ps, Kinetic Temperature: 297.798 K, Volume: 1949.493 nm^3\n",
      "Progress:   5.00%, Time: 15.00 ps, Kinetic Temperature: 298.274 K, Volume: 1945.732 nm^3\n",
      "Progress:   5.33%, Time: 16.00 ps, Kinetic Temperature: 297.860 K, Volume: 1943.083 nm^3\n",
      "Progress:   5.67%, Time: 17.00 ps, Kinetic Temperature: 297.257 K, Volume: 1942.017 nm^3\n",
      "Progress:   6.00%, Time: 18.00 ps, Kinetic Temperature: 297.802 K, Volume: 1944.274 nm^3\n",
      "Progress:   6.33%, Time: 19.00 ps, Kinetic Temperature: 298.369 K, Volume: 1942.336 nm^3\n",
      "Progress:   6.67%, Time: 20.00 ps, Kinetic Temperature: 297.390 K, Volume: 1943.851 nm^3\n",
      "Progress:   7.00%, Time: 21.00 ps, Kinetic Temperature: 296.785 K, Volume: 1944.556 nm^3\n",
      "Progress:   7.33%, Time: 22.00 ps, Kinetic Temperature: 296.899 K, Volume: 1945.861 nm^3\n",
      "Progress:   7.67%, Time: 23.00 ps, Kinetic Temperature: 297.764 K, Volume: 1946.021 nm^3\n",
      "Progress:   8.00%, Time: 24.00 ps, Kinetic Temperature: 298.800 K, Volume: 1942.901 nm^3\n",
      "Progress:   8.33%, Time: 25.00 ps, Kinetic Temperature: 297.073 K, Volume: 1945.838 nm^3\n",
      "Progress:   8.67%, Time: 26.00 ps, Kinetic Temperature: 298.479 K, Volume: 1947.764 nm^3\n",
      "Progress:   9.00%, Time: 27.00 ps, Kinetic Temperature: 297.215 K, Volume: 1944.969 nm^3\n",
      "Progress:   9.33%, Time: 28.00 ps, Kinetic Temperature: 297.449 K, Volume: 1944.743 nm^3\n",
      "Progress:   9.67%, Time: 29.00 ps, Kinetic Temperature: 297.012 K, Volume: 1943.439 nm^3\n",
      "Progress:  10.00%, Time: 30.00 ps, Kinetic Temperature: 297.427 K, Volume: 1942.929 nm^3\n",
      "Progress:  10.33%, Time: 31.00 ps, Kinetic Temperature: 296.995 K, Volume: 1940.138 nm^3\n",
      "Progress:  10.67%, Time: 32.00 ps, Kinetic Temperature: 297.570 K, Volume: 1940.596 nm^3\n",
      "Progress:  11.00%, Time: 33.00 ps, Kinetic Temperature: 298.577 K, Volume: 1942.990 nm^3\n",
      "Progress:  11.33%, Time: 34.00 ps, Kinetic Temperature: 298.474 K, Volume: 1941.704 nm^3\n",
      "Progress:  11.67%, Time: 35.00 ps, Kinetic Temperature: 296.864 K, Volume: 1944.163 nm^3\n",
      "Progress:  12.00%, Time: 36.00 ps, Kinetic Temperature: 298.065 K, Volume: 1941.897 nm^3\n",
      "Progress:  12.33%, Time: 37.00 ps, Kinetic Temperature: 298.030 K, Volume: 1944.473 nm^3\n",
      "Progress:  12.67%, Time: 38.00 ps, Kinetic Temperature: 297.161 K, Volume: 1942.845 nm^3\n",
      "Progress:  13.00%, Time: 39.00 ps, Kinetic Temperature: 297.112 K, Volume: 1942.793 nm^3\n",
      "Progress:  13.33%, Time: 40.00 ps, Kinetic Temperature: 297.111 K, Volume: 1943.408 nm^3\n",
      "Progress:  13.67%, Time: 41.00 ps, Kinetic Temperature: 298.078 K, Volume: 1945.533 nm^3\n",
      "Progress:  14.00%, Time: 42.00 ps, Kinetic Temperature: 296.290 K, Volume: 1943.974 nm^3\n",
      "Progress:  14.33%, Time: 43.00 ps, Kinetic Temperature: 297.861 K, Volume: 1943.997 nm^3\n",
      "Progress:  14.67%, Time: 44.00 ps, Kinetic Temperature: 296.991 K, Volume: 1943.682 nm^3\n",
      "Progress:  15.00%, Time: 45.00 ps, Kinetic Temperature: 296.939 K, Volume: 1944.170 nm^3\n",
      "Progress:  15.33%, Time: 46.00 ps, Kinetic Temperature: 298.000 K, Volume: 1941.415 nm^3\n",
      "Progress:  15.67%, Time: 47.00 ps, Kinetic Temperature: 297.403 K, Volume: 1938.950 nm^3\n",
      "Progress:  16.00%, Time: 48.00 ps, Kinetic Temperature: 297.583 K, Volume: 1941.845 nm^3\n",
      "Progress:  16.33%, Time: 49.00 ps, Kinetic Temperature: 296.678 K, Volume: 1945.943 nm^3\n",
      "Progress:  16.67%, Time: 50.00 ps, Kinetic Temperature: 297.953 K, Volume: 1944.414 nm^3\n",
      "Progress:  17.00%, Time: 51.00 ps, Kinetic Temperature: 297.596 K, Volume: 1944.397 nm^3\n",
      "Progress:  17.33%, Time: 52.00 ps, Kinetic Temperature: 298.995 K, Volume: 1944.337 nm^3\n",
      "Progress:  17.67%, Time: 53.00 ps, Kinetic Temperature: 296.725 K, Volume: 1943.011 nm^3\n",
      "Progress:  18.00%, Time: 54.00 ps, Kinetic Temperature: 298.754 K, Volume: 1940.219 nm^3\n",
      "Progress:  18.33%, Time: 55.00 ps, Kinetic Temperature: 298.587 K, Volume: 1941.572 nm^3\n",
      "Progress:  18.67%, Time: 56.00 ps, Kinetic Temperature: 297.444 K, Volume: 1939.415 nm^3\n",
      "Progress:  19.00%, Time: 57.00 ps, Kinetic Temperature: 297.588 K, Volume: 1941.581 nm^3\n",
      "Progress:  19.33%, Time: 58.00 ps, Kinetic Temperature: 298.663 K, Volume: 1941.198 nm^3\n",
      "Progress:  19.67%, Time: 59.00 ps, Kinetic Temperature: 298.085 K, Volume: 1941.669 nm^3\n",
      "Progress:  20.00%, Time: 60.00 ps, Kinetic Temperature: 298.456 K, Volume: 1942.091 nm^3\n",
      "Progress:  20.33%, Time: 61.00 ps, Kinetic Temperature: 297.872 K, Volume: 1939.677 nm^3\n",
      "Progress:  20.67%, Time: 62.00 ps, Kinetic Temperature: 296.975 K, Volume: 1939.047 nm^3\n",
      "Progress:  21.00%, Time: 63.00 ps, Kinetic Temperature: 298.284 K, Volume: 1938.976 nm^3\n",
      "Progress:  21.33%, Time: 64.00 ps, Kinetic Temperature: 296.951 K, Volume: 1942.532 nm^3\n",
      "Progress:  21.67%, Time: 65.00 ps, Kinetic Temperature: 296.802 K, Volume: 1944.802 nm^3\n",
      "Progress:  22.00%, Time: 66.00 ps, Kinetic Temperature: 296.557 K, Volume: 1943.477 nm^3\n",
      "Progress:  22.33%, Time: 67.00 ps, Kinetic Temperature: 297.339 K, Volume: 1943.838 nm^3\n",
      "Progress:  22.67%, Time: 68.00 ps, Kinetic Temperature: 297.142 K, Volume: 1944.030 nm^3\n",
      "Progress:  23.00%, Time: 69.00 ps, Kinetic Temperature: 296.934 K, Volume: 1942.575 nm^3\n",
      "Progress:  23.33%, Time: 70.00 ps, Kinetic Temperature: 297.508 K, Volume: 1942.977 nm^3\n",
      "Progress:  23.67%, Time: 71.00 ps, Kinetic Temperature: 297.906 K, Volume: 1942.707 nm^3\n",
      "Progress:  24.00%, Time: 72.00 ps, Kinetic Temperature: 298.084 K, Volume: 1941.751 nm^3\n",
      "Progress:  24.33%, Time: 73.00 ps, Kinetic Temperature: 297.315 K, Volume: 1939.580 nm^3\n",
      "Progress:  24.67%, Time: 74.00 ps, Kinetic Temperature: 297.599 K, Volume: 1939.314 nm^3\n",
      "Progress:  25.00%, Time: 75.00 ps, Kinetic Temperature: 297.368 K, Volume: 1938.953 nm^3\n",
      "Progress:  25.33%, Time: 76.00 ps, Kinetic Temperature: 297.590 K, Volume: 1940.214 nm^3\n",
      "Progress:  25.67%, Time: 77.00 ps, Kinetic Temperature: 296.106 K, Volume: 1942.305 nm^3\n",
      "Progress:  26.00%, Time: 78.00 ps, Kinetic Temperature: 297.278 K, Volume: 1943.741 nm^3\n",
      "Progress:  26.33%, Time: 79.00 ps, Kinetic Temperature: 296.700 K, Volume: 1942.524 nm^3\n",
      "Progress:  26.67%, Time: 80.00 ps, Kinetic Temperature: 298.170 K, Volume: 1943.869 nm^3\n",
      "Progress:  27.00%, Time: 81.00 ps, Kinetic Temperature: 296.415 K, Volume: 1945.396 nm^3\n",
      "Progress:  27.33%, Time: 82.00 ps, Kinetic Temperature: 297.983 K, Volume: 1946.999 nm^3\n",
      "Progress:  27.67%, Time: 83.00 ps, Kinetic Temperature: 298.128 K, Volume: 1944.739 nm^3\n",
      "Progress:  28.00%, Time: 84.00 ps, Kinetic Temperature: 297.795 K, Volume: 1942.977 nm^3\n",
      "Progress:  28.33%, Time: 85.00 ps, Kinetic Temperature: 297.217 K, Volume: 1943.643 nm^3\n",
      "Progress:  28.67%, Time: 86.00 ps, Kinetic Temperature: 297.780 K, Volume: 1943.090 nm^3\n",
      "Progress:  29.00%, Time: 87.00 ps, Kinetic Temperature: 298.493 K, Volume: 1942.838 nm^3\n",
      "Progress:  29.33%, Time: 88.00 ps, Kinetic Temperature: 299.234 K, Volume: 1944.522 nm^3\n",
      "Progress:  29.67%, Time: 89.00 ps, Kinetic Temperature: 299.776 K, Volume: 1944.485 nm^3\n",
      "Progress:  30.00%, Time: 90.00 ps, Kinetic Temperature: 297.843 K, Volume: 1942.913 nm^3\n",
      "Progress:  30.33%, Time: 91.00 ps, Kinetic Temperature: 298.114 K, Volume: 1944.541 nm^3\n",
      "Progress:  30.67%, Time: 92.00 ps, Kinetic Temperature: 299.372 K, Volume: 1942.730 nm^3\n",
      "Progress:  31.00%, Time: 93.00 ps, Kinetic Temperature: 297.287 K, Volume: 1943.397 nm^3\n",
      "Progress:  31.33%, Time: 94.00 ps, Kinetic Temperature: 297.740 K, Volume: 1942.876 nm^3\n",
      "Progress:  31.67%, Time: 95.00 ps, Kinetic Temperature: 297.425 K, Volume: 1940.968 nm^3\n",
      "Progress:  32.00%, Time: 96.00 ps, Kinetic Temperature: 297.157 K, Volume: 1940.798 nm^3\n",
      "Progress:  32.33%, Time: 97.00 ps, Kinetic Temperature: 296.905 K, Volume: 1940.404 nm^3\n",
      "Progress:  32.67%, Time: 98.00 ps, Kinetic Temperature: 298.026 K, Volume: 1941.325 nm^3\n",
      "Progress:  33.00%, Time: 99.00 ps, Kinetic Temperature: 297.974 K, Volume: 1943.696 nm^3\n",
      "Progress:  33.33%, Time: 100.00 ps, Kinetic Temperature: 297.810 K, Volume: 1942.873 nm^3\n",
      "Progress:  33.67%, Time: 101.00 ps, Kinetic Temperature: 297.940 K, Volume: 1944.042 nm^3\n",
      "Progress:  34.00%, Time: 102.00 ps, Kinetic Temperature: 296.770 K, Volume: 1940.962 nm^3\n",
      "Progress:  34.33%, Time: 103.00 ps, Kinetic Temperature: 297.282 K, Volume: 1939.495 nm^3\n",
      "Progress:  34.67%, Time: 104.00 ps, Kinetic Temperature: 297.841 K, Volume: 1939.684 nm^3\n",
      "Progress:  35.00%, Time: 105.00 ps, Kinetic Temperature: 297.695 K, Volume: 1944.781 nm^3\n",
      "Progress:  35.33%, Time: 106.00 ps, Kinetic Temperature: 297.734 K, Volume: 1943.518 nm^3\n",
      "Progress:  35.67%, Time: 107.00 ps, Kinetic Temperature: 299.183 K, Volume: 1943.352 nm^3\n",
      "Progress:  36.00%, Time: 108.00 ps, Kinetic Temperature: 296.718 K, Volume: 1943.402 nm^3\n",
      "Progress:  36.33%, Time: 109.00 ps, Kinetic Temperature: 296.228 K, Volume: 1941.463 nm^3\n",
      "Progress:  36.67%, Time: 110.00 ps, Kinetic Temperature: 296.691 K, Volume: 1941.496 nm^3\n",
      "Progress:  37.00%, Time: 111.00 ps, Kinetic Temperature: 298.079 K, Volume: 1941.310 nm^3\n",
      "Progress:  37.33%, Time: 112.00 ps, Kinetic Temperature: 297.155 K, Volume: 1942.332 nm^3\n",
      "Progress:  37.67%, Time: 113.00 ps, Kinetic Temperature: 298.331 K, Volume: 1941.381 nm^3\n",
      "Progress:  38.00%, Time: 114.00 ps, Kinetic Temperature: 298.464 K, Volume: 1938.572 nm^3\n",
      "Progress:  38.33%, Time: 115.00 ps, Kinetic Temperature: 297.331 K, Volume: 1942.447 nm^3\n",
      "Progress:  38.67%, Time: 116.00 ps, Kinetic Temperature: 297.136 K, Volume: 1942.860 nm^3\n",
      "Progress:  39.00%, Time: 117.00 ps, Kinetic Temperature: 297.035 K, Volume: 1944.035 nm^3\n",
      "Progress:  39.33%, Time: 118.00 ps, Kinetic Temperature: 297.822 K, Volume: 1943.631 nm^3\n",
      "Progress:  39.67%, Time: 119.00 ps, Kinetic Temperature: 297.780 K, Volume: 1941.786 nm^3\n",
      "Progress:  40.00%, Time: 120.00 ps, Kinetic Temperature: 297.713 K, Volume: 1942.404 nm^3\n",
      "Progress:  40.33%, Time: 121.00 ps, Kinetic Temperature: 296.886 K, Volume: 1944.199 nm^3\n",
      "Progress:  40.67%, Time: 122.00 ps, Kinetic Temperature: 297.137 K, Volume: 1945.478 nm^3\n",
      "Progress:  41.00%, Time: 123.00 ps, Kinetic Temperature: 295.990 K, Volume: 1946.157 nm^3\n",
      "Progress:  41.33%, Time: 124.00 ps, Kinetic Temperature: 297.113 K, Volume: 1945.352 nm^3\n",
      "Progress:  41.67%, Time: 125.00 ps, Kinetic Temperature: 297.787 K, Volume: 1941.379 nm^3\n",
      "Progress:  42.00%, Time: 126.00 ps, Kinetic Temperature: 297.790 K, Volume: 1941.169 nm^3\n",
      "Progress:  42.33%, Time: 127.00 ps, Kinetic Temperature: 296.946 K, Volume: 1940.547 nm^3\n",
      "Progress:  42.67%, Time: 128.00 ps, Kinetic Temperature: 297.723 K, Volume: 1942.737 nm^3\n",
      "Progress:  43.00%, Time: 129.00 ps, Kinetic Temperature: 297.754 K, Volume: 1943.133 nm^3\n",
      "Progress:  43.33%, Time: 130.00 ps, Kinetic Temperature: 297.313 K, Volume: 1943.049 nm^3\n",
      "Progress:  43.67%, Time: 131.00 ps, Kinetic Temperature: 296.770 K, Volume: 1944.477 nm^3\n",
      "Progress:  44.00%, Time: 132.00 ps, Kinetic Temperature: 298.377 K, Volume: 1940.514 nm^3\n",
      "Progress:  44.33%, Time: 133.00 ps, Kinetic Temperature: 296.670 K, Volume: 1940.514 nm^3\n",
      "Progress:  44.67%, Time: 134.00 ps, Kinetic Temperature: 297.896 K, Volume: 1943.276 nm^3\n",
      "Progress:  45.00%, Time: 135.00 ps, Kinetic Temperature: 296.897 K, Volume: 1942.825 nm^3\n",
      "Progress:  45.33%, Time: 136.00 ps, Kinetic Temperature: 297.902 K, Volume: 1943.184 nm^3\n",
      "Progress:  45.67%, Time: 137.00 ps, Kinetic Temperature: 298.223 K, Volume: 1943.289 nm^3\n",
      "Progress:  46.00%, Time: 138.00 ps, Kinetic Temperature: 299.386 K, Volume: 1942.968 nm^3\n",
      "Progress:  46.33%, Time: 139.00 ps, Kinetic Temperature: 296.914 K, Volume: 1942.903 nm^3\n",
      "Progress:  46.67%, Time: 140.00 ps, Kinetic Temperature: 297.706 K, Volume: 1944.513 nm^3\n",
      "Progress:  47.00%, Time: 141.00 ps, Kinetic Temperature: 298.168 K, Volume: 1942.164 nm^3\n",
      "Progress:  47.33%, Time: 142.00 ps, Kinetic Temperature: 298.017 K, Volume: 1942.865 nm^3\n",
      "Progress:  47.67%, Time: 143.00 ps, Kinetic Temperature: 297.401 K, Volume: 1943.385 nm^3\n",
      "Progress:  48.00%, Time: 144.00 ps, Kinetic Temperature: 298.334 K, Volume: 1941.593 nm^3\n",
      "Progress:  48.33%, Time: 145.00 ps, Kinetic Temperature: 297.525 K, Volume: 1940.571 nm^3\n",
      "Progress:  48.67%, Time: 146.00 ps, Kinetic Temperature: 297.577 K, Volume: 1940.334 nm^3\n",
      "Progress:  49.00%, Time: 147.00 ps, Kinetic Temperature: 297.694 K, Volume: 1943.785 nm^3\n",
      "Progress:  49.33%, Time: 148.00 ps, Kinetic Temperature: 298.523 K, Volume: 1941.155 nm^3\n",
      "Progress:  49.67%, Time: 149.00 ps, Kinetic Temperature: 298.067 K, Volume: 1943.978 nm^3\n",
      "Progress:  50.00%, Time: 150.00 ps, Kinetic Temperature: 298.520 K, Volume: 1941.622 nm^3\n",
      "Progress:  50.33%, Time: 151.00 ps, Kinetic Temperature: 297.570 K, Volume: 1941.858 nm^3\n",
      "Progress:  50.67%, Time: 152.00 ps, Kinetic Temperature: 297.879 K, Volume: 1944.203 nm^3\n",
      "Progress:  51.00%, Time: 153.00 ps, Kinetic Temperature: 297.827 K, Volume: 1942.524 nm^3\n",
      "Progress:  51.33%, Time: 154.00 ps, Kinetic Temperature: 297.624 K, Volume: 1942.833 nm^3\n",
      "Progress:  51.67%, Time: 155.00 ps, Kinetic Temperature: 297.056 K, Volume: 1943.472 nm^3\n",
      "Progress:  52.00%, Time: 156.00 ps, Kinetic Temperature: 296.501 K, Volume: 1947.187 nm^3\n",
      "Progress:  52.33%, Time: 157.00 ps, Kinetic Temperature: 297.032 K, Volume: 1943.954 nm^3\n",
      "Progress:  52.67%, Time: 158.00 ps, Kinetic Temperature: 297.247 K, Volume: 1941.885 nm^3\n",
      "Progress:  53.00%, Time: 159.00 ps, Kinetic Temperature: 297.671 K, Volume: 1938.793 nm^3\n",
      "Progress:  53.33%, Time: 160.00 ps, Kinetic Temperature: 297.813 K, Volume: 1940.073 nm^3\n",
      "Progress:  53.67%, Time: 161.00 ps, Kinetic Temperature: 298.359 K, Volume: 1941.256 nm^3\n",
      "Progress:  54.00%, Time: 162.00 ps, Kinetic Temperature: 297.385 K, Volume: 1942.070 nm^3\n",
      "Progress:  54.33%, Time: 163.00 ps, Kinetic Temperature: 297.362 K, Volume: 1943.971 nm^3\n",
      "Progress:  54.67%, Time: 164.00 ps, Kinetic Temperature: 298.064 K, Volume: 1942.400 nm^3\n",
      "Progress:  55.00%, Time: 165.00 ps, Kinetic Temperature: 297.715 K, Volume: 1944.743 nm^3\n",
      "Progress:  55.33%, Time: 166.00 ps, Kinetic Temperature: 298.743 K, Volume: 1945.791 nm^3\n",
      "Progress:  55.67%, Time: 167.00 ps, Kinetic Temperature: 298.287 K, Volume: 1940.324 nm^3\n",
      "Progress:  56.00%, Time: 168.00 ps, Kinetic Temperature: 297.851 K, Volume: 1940.900 nm^3\n",
      "Progress:  56.33%, Time: 169.00 ps, Kinetic Temperature: 298.021 K, Volume: 1938.972 nm^3\n",
      "Progress:  56.67%, Time: 170.00 ps, Kinetic Temperature: 298.235 K, Volume: 1940.078 nm^3\n",
      "Progress:  57.00%, Time: 171.00 ps, Kinetic Temperature: 297.771 K, Volume: 1938.423 nm^3\n",
      "Progress:  57.33%, Time: 172.00 ps, Kinetic Temperature: 298.135 K, Volume: 1939.238 nm^3\n",
      "Progress:  57.67%, Time: 173.00 ps, Kinetic Temperature: 297.268 K, Volume: 1941.825 nm^3\n",
      "Progress:  58.00%, Time: 174.00 ps, Kinetic Temperature: 298.569 K, Volume: 1942.544 nm^3\n",
      "Progress:  58.33%, Time: 175.00 ps, Kinetic Temperature: 297.820 K, Volume: 1941.803 nm^3\n",
      "Progress:  58.67%, Time: 176.00 ps, Kinetic Temperature: 297.773 K, Volume: 1940.780 nm^3\n",
      "Progress:  59.00%, Time: 177.00 ps, Kinetic Temperature: 296.692 K, Volume: 1939.236 nm^3\n",
      "Progress:  59.33%, Time: 178.00 ps, Kinetic Temperature: 296.842 K, Volume: 1942.288 nm^3\n",
      "Progress:  59.67%, Time: 179.00 ps, Kinetic Temperature: 297.123 K, Volume: 1945.616 nm^3\n",
      "Progress:  60.00%, Time: 180.00 ps, Kinetic Temperature: 298.112 K, Volume: 1945.830 nm^3\n",
      "Progress:  60.33%, Time: 181.00 ps, Kinetic Temperature: 297.728 K, Volume: 1943.130 nm^3\n",
      "Progress:  60.67%, Time: 182.00 ps, Kinetic Temperature: 298.774 K, Volume: 1944.942 nm^3\n",
      "Progress:  61.00%, Time: 183.00 ps, Kinetic Temperature: 298.139 K, Volume: 1943.498 nm^3\n",
      "Progress:  61.33%, Time: 184.00 ps, Kinetic Temperature: 296.775 K, Volume: 1941.826 nm^3\n",
      "Progress:  61.67%, Time: 185.00 ps, Kinetic Temperature: 298.436 K, Volume: 1939.688 nm^3\n",
      "Progress:  62.00%, Time: 186.00 ps, Kinetic Temperature: 297.974 K, Volume: 1939.881 nm^3\n",
      "Progress:  62.33%, Time: 187.00 ps, Kinetic Temperature: 296.816 K, Volume: 1942.677 nm^3\n",
      "Progress:  62.67%, Time: 188.00 ps, Kinetic Temperature: 296.699 K, Volume: 1944.991 nm^3\n",
      "Progress:  63.00%, Time: 189.00 ps, Kinetic Temperature: 297.512 K, Volume: 1945.803 nm^3\n",
      "Progress:  63.33%, Time: 190.00 ps, Kinetic Temperature: 298.205 K, Volume: 1945.696 nm^3\n",
      "Progress:  63.67%, Time: 191.00 ps, Kinetic Temperature: 297.728 K, Volume: 1945.513 nm^3\n",
      "Progress:  64.00%, Time: 192.00 ps, Kinetic Temperature: 297.790 K, Volume: 1942.905 nm^3\n",
      "Progress:  64.33%, Time: 193.00 ps, Kinetic Temperature: 297.659 K, Volume: 1941.731 nm^3\n",
      "Progress:  64.67%, Time: 194.00 ps, Kinetic Temperature: 297.054 K, Volume: 1942.149 nm^3\n",
      "Progress:  65.00%, Time: 195.00 ps, Kinetic Temperature: 297.760 K, Volume: 1941.731 nm^3\n",
      "Progress:  65.33%, Time: 196.00 ps, Kinetic Temperature: 298.283 K, Volume: 1942.720 nm^3\n",
      "Progress:  65.67%, Time: 197.00 ps, Kinetic Temperature: 298.136 K, Volume: 1940.013 nm^3\n",
      "Progress:  66.00%, Time: 198.00 ps, Kinetic Temperature: 297.319 K, Volume: 1945.641 nm^3\n",
      "Progress:  66.33%, Time: 199.00 ps, Kinetic Temperature: 298.251 K, Volume: 1941.774 nm^3\n",
      "Progress:  66.67%, Time: 200.00 ps, Kinetic Temperature: 299.891 K, Volume: 1940.224 nm^3\n",
      "Progress:  67.00%, Time: 201.00 ps, Kinetic Temperature: 298.356 K, Volume: 1940.390 nm^3\n",
      "Progress:  67.33%, Time: 202.00 ps, Kinetic Temperature: 298.915 K, Volume: 1937.367 nm^3\n",
      "Progress:  67.67%, Time: 203.00 ps, Kinetic Temperature: 297.395 K, Volume: 1941.901 nm^3\n",
      "Progress:  68.00%, Time: 204.00 ps, Kinetic Temperature: 297.712 K, Volume: 1943.401 nm^3\n",
      "Progress:  68.33%, Time: 205.00 ps, Kinetic Temperature: 297.976 K, Volume: 1943.096 nm^3\n",
      "Progress:  68.67%, Time: 206.00 ps, Kinetic Temperature: 299.105 K, Volume: 1942.953 nm^3\n",
      "Progress:  69.00%, Time: 207.00 ps, Kinetic Temperature: 297.921 K, Volume: 1941.764 nm^3\n",
      "Progress:  69.33%, Time: 208.00 ps, Kinetic Temperature: 297.805 K, Volume: 1940.670 nm^3\n",
      "Progress:  69.67%, Time: 209.00 ps, Kinetic Temperature: 297.771 K, Volume: 1942.184 nm^3\n",
      "Progress:  70.00%, Time: 210.00 ps, Kinetic Temperature: 297.425 K, Volume: 1941.070 nm^3\n",
      "Progress:  70.33%, Time: 211.00 ps, Kinetic Temperature: 297.753 K, Volume: 1940.771 nm^3\n",
      "Progress:  70.67%, Time: 212.00 ps, Kinetic Temperature: 297.156 K, Volume: 1940.241 nm^3\n",
      "Progress:  71.00%, Time: 213.00 ps, Kinetic Temperature: 297.906 K, Volume: 1943.009 nm^3\n",
      "Progress:  71.33%, Time: 214.00 ps, Kinetic Temperature: 298.182 K, Volume: 1944.501 nm^3\n",
      "Progress:  71.67%, Time: 215.00 ps, Kinetic Temperature: 297.797 K, Volume: 1943.115 nm^3\n",
      "Progress:  72.00%, Time: 216.00 ps, Kinetic Temperature: 298.125 K, Volume: 1941.204 nm^3\n",
      "Progress:  72.33%, Time: 217.00 ps, Kinetic Temperature: 297.452 K, Volume: 1941.847 nm^3\n",
      "Progress:  72.67%, Time: 218.00 ps, Kinetic Temperature: 296.264 K, Volume: 1944.410 nm^3\n",
      "Progress:  73.00%, Time: 219.00 ps, Kinetic Temperature: 297.826 K, Volume: 1940.236 nm^3\n",
      "Progress:  73.33%, Time: 220.00 ps, Kinetic Temperature: 296.922 K, Volume: 1939.636 nm^3\n",
      "Progress:  73.67%, Time: 221.00 ps, Kinetic Temperature: 298.036 K, Volume: 1942.861 nm^3\n",
      "Progress:  74.00%, Time: 222.00 ps, Kinetic Temperature: 298.156 K, Volume: 1943.291 nm^3\n",
      "Progress:  74.33%, Time: 223.00 ps, Kinetic Temperature: 298.114 K, Volume: 1943.968 nm^3\n",
      "Progress:  74.67%, Time: 224.00 ps, Kinetic Temperature: 297.762 K, Volume: 1945.329 nm^3\n",
      "Progress:  75.00%, Time: 225.00 ps, Kinetic Temperature: 297.922 K, Volume: 1944.581 nm^3\n",
      "Progress:  75.33%, Time: 226.00 ps, Kinetic Temperature: 298.022 K, Volume: 1940.549 nm^3\n",
      "Progress:  75.67%, Time: 227.00 ps, Kinetic Temperature: 297.709 K, Volume: 1938.894 nm^3\n",
      "Progress:  76.00%, Time: 228.00 ps, Kinetic Temperature: 297.803 K, Volume: 1937.687 nm^3\n",
      "Progress:  76.33%, Time: 229.00 ps, Kinetic Temperature: 297.199 K, Volume: 1937.647 nm^3\n",
      "Progress:  76.67%, Time: 230.00 ps, Kinetic Temperature: 298.298 K, Volume: 1939.070 nm^3\n",
      "Progress:  77.00%, Time: 231.00 ps, Kinetic Temperature: 298.655 K, Volume: 1943.219 nm^3\n",
      "Progress:  77.33%, Time: 232.00 ps, Kinetic Temperature: 297.950 K, Volume: 1945.025 nm^3\n",
      "Progress:  77.67%, Time: 233.00 ps, Kinetic Temperature: 296.804 K, Volume: 1945.124 nm^3\n",
      "Progress:  78.00%, Time: 234.00 ps, Kinetic Temperature: 298.264 K, Volume: 1947.089 nm^3\n",
      "Progress:  78.33%, Time: 235.00 ps, Kinetic Temperature: 298.103 K, Volume: 1947.057 nm^3\n",
      "Progress:  78.67%, Time: 236.00 ps, Kinetic Temperature: 299.150 K, Volume: 1941.816 nm^3\n",
      "Progress:  79.00%, Time: 237.00 ps, Kinetic Temperature: 298.582 K, Volume: 1943.679 nm^3\n",
      "Progress:  79.33%, Time: 238.00 ps, Kinetic Temperature: 297.483 K, Volume: 1944.548 nm^3\n",
      "Progress:  79.67%, Time: 239.00 ps, Kinetic Temperature: 298.532 K, Volume: 1940.324 nm^3\n",
      "Progress:  80.00%, Time: 240.00 ps, Kinetic Temperature: 298.286 K, Volume: 1939.462 nm^3\n",
      "Progress:  80.33%, Time: 241.00 ps, Kinetic Temperature: 298.548 K, Volume: 1939.612 nm^3\n",
      "Progress:  80.67%, Time: 242.00 ps, Kinetic Temperature: 297.536 K, Volume: 1941.595 nm^3\n",
      "Progress:  81.00%, Time: 243.00 ps, Kinetic Temperature: 298.357 K, Volume: 1939.130 nm^3\n",
      "Progress:  81.33%, Time: 244.00 ps, Kinetic Temperature: 297.109 K, Volume: 1942.111 nm^3\n",
      "Progress:  81.67%, Time: 245.00 ps, Kinetic Temperature: 297.791 K, Volume: 1940.433 nm^3\n",
      "Progress:  82.00%, Time: 246.00 ps, Kinetic Temperature: 297.980 K, Volume: 1943.671 nm^3\n",
      "Progress:  82.33%, Time: 247.00 ps, Kinetic Temperature: 298.020 K, Volume: 1943.880 nm^3\n",
      "Progress:  82.67%, Time: 248.00 ps, Kinetic Temperature: 297.022 K, Volume: 1941.866 nm^3\n",
      "Progress:  83.00%, Time: 249.00 ps, Kinetic Temperature: 297.895 K, Volume: 1941.667 nm^3\n",
      "Progress:  83.33%, Time: 250.00 ps, Kinetic Temperature: 297.859 K, Volume: 1939.087 nm^3\n",
      "Progress:  83.67%, Time: 251.00 ps, Kinetic Temperature: 295.946 K, Volume: 1939.830 nm^3\n",
      "Progress:  84.00%, Time: 252.00 ps, Kinetic Temperature: 295.001 K, Volume: 1940.380 nm^3\n",
      "Progress:  84.33%, Time: 253.00 ps, Kinetic Temperature: 297.365 K, Volume: 1940.259 nm^3\n",
      "Progress:  84.67%, Time: 254.00 ps, Kinetic Temperature: 297.712 K, Volume: 1940.951 nm^3\n",
      "Progress:  85.00%, Time: 255.00 ps, Kinetic Temperature: 296.981 K, Volume: 1939.078 nm^3\n",
      "Progress:  85.33%, Time: 256.00 ps, Kinetic Temperature: 296.354 K, Volume: 1939.745 nm^3\n",
      "Progress:  85.67%, Time: 257.00 ps, Kinetic Temperature: 296.832 K, Volume: 1937.438 nm^3\n",
      "Progress:  86.00%, Time: 258.00 ps, Kinetic Temperature: 298.203 K, Volume: 1936.473 nm^3\n",
      "Progress:  86.33%, Time: 259.00 ps, Kinetic Temperature: 298.696 K, Volume: 1937.102 nm^3\n",
      "Progress:  86.67%, Time: 260.00 ps, Kinetic Temperature: 297.597 K, Volume: 1940.068 nm^3\n",
      "Progress:  87.00%, Time: 261.00 ps, Kinetic Temperature: 298.073 K, Volume: 1939.506 nm^3\n",
      "Progress:  87.33%, Time: 262.00 ps, Kinetic Temperature: 297.181 K, Volume: 1939.187 nm^3\n",
      "Progress:  87.67%, Time: 263.00 ps, Kinetic Temperature: 298.703 K, Volume: 1940.700 nm^3\n",
      "Progress:  88.00%, Time: 264.00 ps, Kinetic Temperature: 298.711 K, Volume: 1941.206 nm^3\n",
      "Progress:  88.33%, Time: 265.00 ps, Kinetic Temperature: 298.164 K, Volume: 1942.702 nm^3\n",
      "Progress:  88.67%, Time: 266.00 ps, Kinetic Temperature: 298.314 K, Volume: 1940.110 nm^3\n",
      "Progress:  89.00%, Time: 267.00 ps, Kinetic Temperature: 297.654 K, Volume: 1942.685 nm^3\n",
      "Progress:  89.33%, Time: 268.00 ps, Kinetic Temperature: 298.773 K, Volume: 1943.425 nm^3\n",
      "Progress:  89.67%, Time: 269.00 ps, Kinetic Temperature: 298.365 K, Volume: 1942.883 nm^3\n",
      "Progress:  90.00%, Time: 270.00 ps, Kinetic Temperature: 296.859 K, Volume: 1944.301 nm^3\n",
      "Progress:  90.33%, Time: 271.00 ps, Kinetic Temperature: 298.238 K, Volume: 1943.991 nm^3\n",
      "Progress:  90.67%, Time: 272.00 ps, Kinetic Temperature: 297.697 K, Volume: 1942.702 nm^3\n",
      "Progress:  91.00%, Time: 273.00 ps, Kinetic Temperature: 298.211 K, Volume: 1943.516 nm^3\n",
      "Progress:  91.33%, Time: 274.00 ps, Kinetic Temperature: 298.389 K, Volume: 1944.307 nm^3\n",
      "Progress:  91.67%, Time: 275.00 ps, Kinetic Temperature: 298.682 K, Volume: 1940.462 nm^3\n",
      "Progress:  92.00%, Time: 276.00 ps, Kinetic Temperature: 297.472 K, Volume: 1944.361 nm^3\n",
      "Progress:  92.33%, Time: 277.00 ps, Kinetic Temperature: 297.822 K, Volume: 1940.569 nm^3\n",
      "Progress:  92.67%, Time: 278.00 ps, Kinetic Temperature: 297.639 K, Volume: 1940.903 nm^3\n",
      "Progress:  93.00%, Time: 279.00 ps, Kinetic Temperature: 298.815 K, Volume: 1941.632 nm^3\n",
      "Progress:  93.33%, Time: 280.00 ps, Kinetic Temperature: 297.723 K, Volume: 1943.990 nm^3\n",
      "Progress:  93.67%, Time: 281.00 ps, Kinetic Temperature: 296.750 K, Volume: 1943.011 nm^3\n",
      "Progress:  94.00%, Time: 282.00 ps, Kinetic Temperature: 297.357 K, Volume: 1945.495 nm^3\n",
      "Progress:  94.33%, Time: 283.00 ps, Kinetic Temperature: 298.512 K, Volume: 1945.508 nm^3\n",
      "Progress:  94.67%, Time: 284.00 ps, Kinetic Temperature: 297.110 K, Volume: 1942.829 nm^3\n",
      "Progress:  95.00%, Time: 285.00 ps, Kinetic Temperature: 298.151 K, Volume: 1942.030 nm^3\n",
      "Progress:  95.33%, Time: 286.00 ps, Kinetic Temperature: 298.723 K, Volume: 1944.020 nm^3\n",
      "Progress:  95.67%, Time: 287.00 ps, Kinetic Temperature: 298.806 K, Volume: 1946.711 nm^3\n",
      "Progress:  96.00%, Time: 288.00 ps, Kinetic Temperature: 298.415 K, Volume: 1943.358 nm^3\n",
      "Progress:  96.33%, Time: 289.00 ps, Kinetic Temperature: 297.979 K, Volume: 1939.325 nm^3\n",
      "Progress:  96.67%, Time: 290.00 ps, Kinetic Temperature: 298.466 K, Volume: 1942.622 nm^3\n",
      "Progress:  97.00%, Time: 291.00 ps, Kinetic Temperature: 296.697 K, Volume: 1942.059 nm^3\n",
      "Progress:  97.33%, Time: 292.00 ps, Kinetic Temperature: 297.512 K, Volume: 1942.475 nm^3\n",
      "Progress:  97.67%, Time: 293.00 ps, Kinetic Temperature: 297.054 K, Volume: 1940.833 nm^3\n",
      "Progress:  98.00%, Time: 294.00 ps, Kinetic Temperature: 297.325 K, Volume: 1940.979 nm^3\n",
      "Progress:  98.33%, Time: 295.00 ps, Kinetic Temperature: 297.026 K, Volume: 1939.386 nm^3\n",
      "Progress:  98.67%, Time: 296.00 ps, Kinetic Temperature: 297.369 K, Volume: 1938.804 nm^3\n",
      "Progress:  99.00%, Time: 297.00 ps, Kinetic Temperature: 297.730 K, Volume: 1943.838 nm^3\n",
      "Progress:  99.33%, Time: 298.00 ps, Kinetic Temperature: 296.563 K, Volume: 1945.907 nm^3\n",
      "Progress:  99.67%, Time: 299.00 ps, Kinetic Temperature: 297.676 K, Volume: 1941.628 nm^3\n",
      "Progress: 100.00%, Time: 300.00 ps, Kinetic Temperature: 297.119 K, Volume: 1944.991 nm^3\n"
     ]
    }
   ],
   "source": [
    "for iteration in range(1, number_iterations+1):\n",
    "    integrator.step(steps_per_iteration)\n",
    "    state = simulation.context.getState(getEnergy=True)\n",
    "    time = state.getTime()\n",
    "    potential_energy = state.getPotentialEnergy()\n",
    "    kinetic_energy = state.getKineticEnergy()\n",
    "    volume = state.getPeriodicBoxVolume()\n",
    "    density = (net_mass / volume).in_units_of(unit.gram / unit.centimeter**3)\n",
    "    kinetic_temperature = (2.0 * kinetic_energy / kB / n_degrees_of_freedom).in_units_of(unit.kelvin)\n",
    "    data['time'][iteration]=time\n",
    "    data['potential'][iteration] = potential_energy\n",
    "    data['kinetic'][iteration] = kinetic_energy\n",
    "    data['volume'][iteration] = volume\n",
    "    data['density'][iteration] = density\n",
    "    data['kinetic_temperature'][iteration] = kinetic_temperature\n",
    "    if (iteration%elapsed_iterations_verbose)==0:\n",
    "        printout_status(iteration, number_iterations, time, kinetic_temperature, volume)\n",
    "    if (iteration%elapsed_iterations_checkpoint)==0:\n",
    "        save_checkpoint_state(simulation)"
   ]
  },
  {
   "cell_type": "markdown",
   "metadata": {},
   "source": [
    "#### Savind Data"
   ]
  },
  {
   "cell_type": "code",
   "execution_count": 17,
   "metadata": {},
   "outputs": [],
   "source": [
    "with open(os.path.join('data.pkl'), 'wb') as f:\n",
    "    pickle.dump(data, f)"
   ]
  },
  {
   "cell_type": "markdown",
   "metadata": {},
   "source": [
    "#### Saving Finnal State"
   ]
  },
  {
   "cell_type": "code",
   "execution_count": 18,
   "metadata": {},
   "outputs": [],
   "source": [
    "save_finnal_state(simulation)\n",
    "m3t.convert(simulation,'HIF1_equilibrado_NPT.pdb')"
   ]
  },
  {
   "cell_type": "markdown",
   "metadata": {},
   "source": [
    "#### Representando los datos"
   ]
  },
  {
   "cell_type": "code",
   "execution_count": 19,
   "metadata": {},
   "outputs": [
    {
     "data": {
      "text/plain": [
       "[<matplotlib.lines.Line2D at 0x7f178aa39e10>]"
      ]
     },
     "execution_count": 19,
     "metadata": {},
     "output_type": "execute_result"
    },
    {
     "data": {
      "image/png": "[encoded data removed]",
      "text/plain": [
       "<Figure size 432x288 with 1 Axes>"
      ]
     },
     "metadata": {
      "needs_background": "light"
     },
     "output_type": "display_data"
    }
   ],
   "source": [
    "plt.plot(data['time'], data['potential'])"
   ]
  },
  {
   "cell_type": "code",
   "execution_count": 20,
   "metadata": {},
   "outputs": [
    {
     "data": {
      "text/plain": [
       "[<matplotlib.lines.Line2D at 0x7f178a99ada0>]"
      ]
     },
     "execution_count": 20,
     "metadata": {},
     "output_type": "execute_result"
    },
    {
     "data": {
      "image/png": "[encoded data removed]",
      "text/plain": [
       "<Figure size 432x288 with 1 Axes>"
      ]
     },
     "metadata": {
      "needs_background": "light"
     },
     "output_type": "display_data"
    }
   ],
   "source": [
    "plt.plot(data['time'], data['kinetic'])"
   ]
  },
  {
   "cell_type": "code",
   "execution_count": 21,
   "metadata": {},
   "outputs": [
    {
     "data": {
      "text/plain": [
       "[<matplotlib.lines.Line2D at 0x7f178a988470>]"
      ]
     },
     "execution_count": 21,
     "metadata": {},
     "output_type": "execute_result"
    },
    {
     "data": {
      "image/png": "[encoded data removed]",
      "text/plain": [
       "<Figure size 432x288 with 1 Axes>"
      ]
     },
     "metadata": {
      "needs_background": "light"
     },
     "output_type": "display_data"
    }
   ],
   "source": [
    "plt.plot(data['time'], data['kinetic_temperature'])"
   ]
  },
  {
   "cell_type": "code",
   "execution_count": 22,
   "metadata": {},
   "outputs": [
    {
     "data": {
      "text/plain": [
       "[<matplotlib.lines.Line2D at 0x7f178a8eaa58>]"
      ]
     },
     "execution_count": 22,
     "metadata": {},
     "output_type": "execute_result"
    },
    {
     "data": {
      "image/png": "[encoded data removed]",
      "text/plain": [
       "<Figure size 432x288 with 1 Axes>"
      ]
     },
     "metadata": {
      "needs_background": "light"
     },
     "output_type": "display_data"
    }
   ],
   "source": [
    "plt.plot(data['time'], data['density'])"
   ]
  },
  {
   "cell_type": "code",
   "execution_count": 23,
   "metadata": {},
   "outputs": [
    {
     "data": {
      "text/plain": [
       "[<matplotlib.lines.Line2D at 0x7f178a857b00>]"
      ]
     },
     "execution_count": 23,
     "metadata": {},
     "output_type": "execute_result"
    },
    {
     "data": {
      "image/png": "[encoded data removed]",
      "text/plain": [
       "<Figure size 432x288 with 1 Axes>"
      ]
     },
     "metadata": {
      "needs_background": "light"
     },
     "output_type": "display_data"
    }
   ],
   "source": [
    "plt.plot(data['time'], data['volume'])"
   ]
  },
  {
   "cell_type": "code",
   "execution_count": null,
   "metadata": {},
   "outputs": [],
   "source": []
  }
 ],
 "metadata": {
  "kernelspec": {
   "display_name": "Python 3",
   "language": "python",
   "name": "python3"
  },
  "language_info": {
   "codemirror_mode": {
    "name": "ipython",
    "version": 3
   },
   "file_extension": ".py",
   "mimetype": "text/x-python",
   "name": "python",
   "nbconvert_exporter": "python",
   "pygments_lexer": "ipython3",
   "version": "3.7.3"
  }
 },
 "nbformat": 4,
 "nbformat_minor": 2
}
