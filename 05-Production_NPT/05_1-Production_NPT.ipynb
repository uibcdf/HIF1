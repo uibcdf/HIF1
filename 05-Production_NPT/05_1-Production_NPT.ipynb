{
 "cells": [
  {
   "cell_type": "code",
   "execution_count": 1,
   "metadata": {},
   "outputs": [
    {
     "name": "stderr",
     "output_type": "stream",
     "text": [
      "/home/liliana/Myopt/Miniconda/miniconda3/envs/UIBCDF_lab/lib/python3.7/site-packages/yank/experiment.py:1170: YAMLLoadWarning: calling yaml.load() without Loader=... is deprecated, as the default Loader is unsafe. Please read https://msg.pyyaml.org/load for full details.\n",
      "  \"\"\")\n"
     ]
    }
   ],
   "source": [
    "import os\n",
    "from time import time as realtime\n",
    "from pytools_uibcdf.Time import formatted_elapsed_time, formatted_local_time\n",
    "\n",
    "import shutil\n",
    "import molmodmt as m3t\n",
    "import simtk.openmm as mm\n",
    "import simtk.openmm.app as app\n",
    "import simtk.unit as unit\n",
    "\n",
    "from openmmtools.integrators import LangevinIntegrator\n",
    "import pickle\n",
    "\n",
    "from mdtraj.reporters import HDF5Reporter"
   ]
  },
  {
   "cell_type": "code",
   "execution_count": 2,
   "metadata": {},
   "outputs": [],
   "source": [
    "#os.remove('./logfile.txt')"
   ]
  },
  {
   "cell_type": "markdown",
   "metadata": {},
   "source": [
    "#### Files Produced"
   ]
  },
  {
   "cell_type": "markdown",
   "metadata": {},
   "source": [
    "##### In current dir"
   ]
  },
  {
   "cell_type": "code",
   "execution_count": 3,
   "metadata": {},
   "outputs": [],
   "source": [
    "log_file = 'logfile.txt'"
   ]
  },
  {
   "cell_type": "markdown",
   "metadata": {},
   "source": [
    "##### In temporal dir"
   ]
  },
  {
   "cell_type": "code",
   "execution_count": 4,
   "metadata": {},
   "outputs": [],
   "source": [
    "trajectory_file = \"trajectory.h5\"\n",
    "checkpoint_file = \"checkpoint.chk\"\n",
    "final_state_file = \"final_state.xml\"\n",
    "final_checkpoint_file = \"final_checkpoint.chk\"\n",
    "final_pdb_file = \"final_positions.pdb\"\n"
   ]
  },
  {
   "cell_type": "markdown",
   "metadata": {},
   "source": [
    "#### Log"
   ]
  },
  {
   "cell_type": "code",
   "execution_count": 5,
   "metadata": {},
   "outputs": [],
   "source": [
    "log = open(log_file,'w')"
   ]
  },
  {
   "cell_type": "code",
   "execution_count": 6,
   "metadata": {},
   "outputs": [
    {
     "data": {
      "text/plain": [
       "1"
      ]
     },
     "execution_count": 6,
     "metadata": {},
     "output_type": "execute_result"
    }
   ],
   "source": [
    "start_realtime = realtime()\n",
    "log.write(\"\\n\")\n",
    "log.write(\"Start: \"+formatted_local_time()+\"\\n\")\n",
    "log.write(\"\\n\")"
   ]
  },
  {
   "cell_type": "markdown",
   "metadata": {},
   "source": [
    "#### Loading PDB"
   ]
  },
  {
   "cell_type": "code",
   "execution_count": 7,
   "metadata": {},
   "outputs": [],
   "source": [
    "modelo_HIF_init= m3t.convert('HIF1_equilibrado_NPT.pdb', 'openmm.Modeller')"
   ]
  },
  {
   "cell_type": "markdown",
   "metadata": {},
   "source": [
    "#### System"
   ]
  },
  {
   "cell_type": "code",
   "execution_count": 8,
   "metadata": {},
   "outputs": [],
   "source": [
    "topology = modelo_HIF_init.topology\n",
    "forcefield = app.ForceField('amber99sbildn.xml','tip3p.xml')\n",
    "system = forcefield.createSystem(topology, nonbondedMethod=app.PME, nonbondedCutoff=1.2*unit.nanometers, \n",
    "                        constraints=app.HBonds,rigidWater=True, ewaldErrorTolerance=0.0005)"
   ]
  },
  {
   "cell_type": "markdown",
   "metadata": {},
   "source": [
    "#### Thermodynamic State"
   ]
  },
  {
   "cell_type": "code",
   "execution_count": 9,
   "metadata": {},
   "outputs": [],
   "source": [
    "kB = unit.BOLTZMANN_CONSTANT_kB * unit.AVOGADRO_CONSTANT_NA\n",
    "temperature = 300.0*unit.kelvin\n",
    "pressure    = 1.0*unit.atmosphere"
   ]
  },
  {
   "cell_type": "markdown",
   "metadata": {},
   "source": [
    "#### Integrator"
   ]
  },
  {
   "cell_type": "code",
   "execution_count": 10,
   "metadata": {},
   "outputs": [],
   "source": [
    "friction   = 1.0/unit.picosecond\n",
    "step_size  = 2.0*unit.femtoseconds\n",
    "integrator = LangevinIntegrator(temperature, friction, step_size)\n",
    "integrator.setConstraintTolerance(0.00001)"
   ]
  },
  {
   "cell_type": "markdown",
   "metadata": {},
   "source": [
    "#### Barostat"
   ]
  },
  {
   "cell_type": "code",
   "execution_count": 11,
   "metadata": {},
   "outputs": [
    {
     "data": {
      "text/plain": [
       "5"
      ]
     },
     "execution_count": 11,
     "metadata": {},
     "output_type": "execute_result"
    }
   ],
   "source": [
    "barostat_interval = 25\n",
    "barostat = mm.MonteCarloBarostat(pressure, temperature, barostat_interval)\n",
    "system.addForce(barostat)"
   ]
  },
  {
   "cell_type": "markdown",
   "metadata": {},
   "source": [
    "#### Platform"
   ]
  },
  {
   "cell_type": "code",
   "execution_count": 12,
   "metadata": {},
   "outputs": [],
   "source": [
    "platform = mm.Platform.getPlatformByName('CUDA')\n",
    "properties = {'CudaPrecision': 'mixed'}"
   ]
  },
  {
   "cell_type": "markdown",
   "metadata": {},
   "source": [
    "#### Simulation"
   ]
  },
  {
   "cell_type": "code",
   "execution_count": 13,
   "metadata": {},
   "outputs": [],
   "source": [
    "simulation = app.Simulation(topology, system, integrator, platform, properties)"
   ]
  },
  {
   "cell_type": "markdown",
   "metadata": {},
   "source": [
    "#### Initial Conditions"
   ]
  },
  {
   "cell_type": "code",
   "execution_count": 14,
   "metadata": {},
   "outputs": [],
   "source": [
    "restart_pkl = open(\"restart.pkl\",\"rb\")\n",
    "\n",
    "_, init_positions, init_velocities, init_box_vectors = pickle.load(restart_pkl)\n",
    "init_positions = init_positions * unit.nanometers\n",
    "init_velocities = init_velocities * unit.nanometers*unit.picoseconds\n",
    "init_box_vectors = init_box_vectors * unit.nanometers\n",
    "\n",
    "restart_pkl.close()\n",
    "\n",
    "simulation.context.setPositions(init_positions)\n",
    "simulation.context.setVelocities(init_velocities)\n",
    "\n",
    "simulation.context.setPeriodicBoxVectors(*init_box_vectors)\n",
    "#simulation.context.setPeriodicBoxVectors(init_box_vectors[0],init_box_vectors[1],init_box_vectors[2])\n"
   ]
  },
  {
   "cell_type": "markdown",
   "metadata": {},
   "source": [
    "#### Iterations Parameters"
   ]
  },
  {
   "cell_type": "code",
   "execution_count": 15,
   "metadata": {},
   "outputs": [
    {
     "data": {
      "text/plain": [
       "1"
      ]
     },
     "execution_count": 15,
     "metadata": {},
     "output_type": "execute_result"
    }
   ],
   "source": [
    "steps_simulation = 5000 # 10 ps\n",
    "steps_interval_saving = 1000 # x ps \n",
    "steps_interval_verbose = 200 # x ns\n",
    "steps_interval_checkpoint = 1000 # 1n\n",
    "\n",
    "time_simulation = (steps_simulation*step_size).in_units_of(unit.nanoseconds)\n",
    "time_saving = (steps_interval_saving*step_size).in_units_of(unit.picoseconds)\n",
    "time_verbose = (steps_interval_verbose*step_size).in_units_of(unit.picoseconds)\n",
    "time_checkpoint = (steps_interval_checkpoint*step_size).in_units_of(unit.picoseconds)\n",
    "\n",
    "log.write(\"\\n\")\n",
    "log.write(\"Step size: {}\\n\".format(step_size))\n",
    "log.write(\"Simulation time: {} ({} steps)\\n\".format(time_simulation , steps_simulation))\n",
    "log.write(\"Saving time: {} ({} steps)\\n\".format(time_saving , steps_interval_saving))\n",
    "log.write(\"Verbose time: {} ({} steps)\\n\".format(time_verbose , steps_interval_verbose))\n",
    "log.write(\"Checkpoint time: {} ({} steps)\\n\".format(time_checkpoint , steps_interval_checkpoint))\n",
    "log.write(\"\\n\")"
   ]
  },
  {
   "cell_type": "markdown",
   "metadata": {},
   "source": [
    "#### Reporters"
   ]
  },
  {
   "cell_type": "markdown",
   "metadata": {},
   "source": [
    "#### Logfile"
   ]
  },
  {
   "cell_type": "code",
   "execution_count": 16,
   "metadata": {},
   "outputs": [],
   "source": [
    "simulation.reporters.append(app.StateDataReporter(log, reportInterval=steps_interval_verbose,\n",
    "                                                  progress=True, speed=True, step=True, time=True,\n",
    "                                                  potentialEnergy=True, temperature=True,\n",
    "                                                  volume=True, totalSteps=steps_simulation,\n",
    "                                                  separator=\", \"))"
   ]
  },
  {
   "cell_type": "markdown",
   "metadata": {},
   "source": [
    "#### Observables"
   ]
  },
  {
   "cell_type": "code",
   "execution_count": 17,
   "metadata": {},
   "outputs": [],
   "source": [
    "simulation.reporters.append(HDF5Reporter(trajectory_file, reportInterval=steps_interval_saving,\n",
    "                                         coordinates=True, time=True, cell=True,\n",
    "                                         potentialEnergy=True, kineticEnergy=True,\n",
    "                                         temperature=True))"
   ]
  },
  {
   "cell_type": "markdown",
   "metadata": {},
   "source": [
    "#### Checkpoints"
   ]
  },
  {
   "cell_type": "code",
   "execution_count": 18,
   "metadata": {},
   "outputs": [],
   "source": [
    "simulation.reporters.append(app.CheckpointReporter(checkpoint_file, \n",
    "                                                   steps_interval_checkpoint))"
   ]
  },
  {
   "cell_type": "markdown",
   "metadata": {},
   "source": [
    "#### Running Simulation"
   ]
  },
  {
   "cell_type": "code",
   "execution_count": 19,
   "metadata": {},
   "outputs": [],
   "source": [
    "start_simulation_realtime = realtime()\n",
    "\n",
    "simulation.step(steps_simulation)\n",
    "\n",
    "end_simulation_realtime = realtime()"
   ]
  },
  {
   "cell_type": "markdown",
   "metadata": {},
   "source": [
    "#### Saving Finnal State"
   ]
  },
  {
   "cell_type": "code",
   "execution_count": 20,
   "metadata": {},
   "outputs": [],
   "source": [
    "simulation.saveState(final_state_file)\n",
    "simulation.saveCheckpoint(final_checkpoint_file)\n",
    "m3t.convert(simulation,final_pdb_file)"
   ]
  },
  {
   "cell_type": "markdown",
   "metadata": {},
   "source": [
    "#### Removing partial checkpoints"
   ]
  },
  {
   "cell_type": "code",
   "execution_count": 21,
   "metadata": {},
   "outputs": [],
   "source": [
    "os.remove(checkpoint_file)"
   ]
  },
  {
   "cell_type": "markdown",
   "metadata": {},
   "source": [
    "#### Closing all reporters but Log"
   ]
  },
  {
   "cell_type": "code",
   "execution_count": 22,
   "metadata": {},
   "outputs": [],
   "source": [
    "simulation.reporters[1].close()"
   ]
  },
  {
   "cell_type": "markdown",
   "metadata": {},
   "source": [
    "#### Summary"
   ]
  },
  {
   "cell_type": "code",
   "execution_count": 23,
   "metadata": {},
   "outputs": [
    {
     "data": {
      "text/plain": [
       "1"
      ]
     },
     "execution_count": 23,
     "metadata": {},
     "output_type": "execute_result"
    }
   ],
   "source": [
    "end_realtime = realtime()\n",
    "preparation_elapsed_realtime = (start_simulation_realtime - start_realtime)*unit.seconds\n",
    "simulation_elapsed_realtime = (end_simulation_realtime - start_simulation_realtime)*unit.seconds\n",
    "total_elapsed_realtime = (end_realtime - start_realtime)*unit.seconds\n",
    "\n",
    "performance = 24 * (time_simulation/unit.nanoseconds) / (simulation_elapsed_realtime/unit.hours)\n",
    "\n",
    "log.write(\"\\n\")\n",
    "log.write(\"End: \"+formatted_local_time()+\"\\n\")\n",
    "log.write(\"\\n\")\n",
    "log.write(\"****SUMMARY****\\n\")\n",
    "log.write(\"\\n\")\n",
    "log.write(\"Total time: \"+formatted_elapsed_time(total_elapsed_realtime/unit.seconds)+\"\\n\")\n",
    "log.write(\"Preparation time: \"+formatted_elapsed_time(preparation_elapsed_realtime/unit.seconds)+\"\\n\")\n",
    "log.write(\"Simulation time: \"+formatted_elapsed_time(simulation_elapsed_realtime/unit.seconds)+\"\\n\")\n",
    "log.write(\"\\n\")\n",
    "log.write(\"Simulation Performance: {:.3f} ns/day\".format(performance)+\"\\n\")\n",
    "log.write(\"\\n\")"
   ]
  },
  {
   "cell_type": "markdown",
   "metadata": {},
   "source": [
    "#### Closing Log"
   ]
  },
  {
   "cell_type": "code",
   "execution_count": 24,
   "metadata": {},
   "outputs": [],
   "source": [
    "log.close()"
   ]
  },
  {
   "cell_type": "code",
   "execution_count": null,
   "metadata": {},
   "outputs": [],
   "source": []
  }
 ],
 "metadata": {
  "kernelspec": {
   "display_name": "Python 3",
   "language": "python",
   "name": "python3"
  },
  "language_info": {
   "codemirror_mode": {
    "name": "ipython",
    "version": 3
   },
   "file_extension": ".py",
   "mimetype": "text/x-python",
   "name": "python",
   "nbconvert_exporter": "python",
   "pygments_lexer": "ipython3",
   "version": "3.7.3"
  }
 },
 "nbformat": 4,
 "nbformat_minor": 2
}
